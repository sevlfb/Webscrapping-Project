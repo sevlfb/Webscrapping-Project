{
  "cells": [
    {
      "cell_type": "markdown",
      "metadata": {
        "id": "IvYhiZvcPx9u"
      },
      "source": [
        "# WebScrapping - Compilateur d'odfres de stages / emplois"
      ]
    },
    {
      "cell_type": "markdown",
      "metadata": {
        "id": "deuhHV2vP8Md"
      },
      "source": [
        "## Imports"
      ]
    },
    {
      "cell_type": "code",
      "execution_count": 5,
      "metadata": {},
      "outputs": [],
      "source": [
        "%load_ext autoreload\n",
        "%autoreload 2"
      ]
    },
    {
      "cell_type": "code",
      "execution_count": 24,
      "metadata": {},
      "outputs": [],
      "source": [
        "%reload_ext autoreload"
      ]
    },
    {
      "cell_type": "code",
      "execution_count": 2,
      "metadata": {
        "id": "9-n1TRwuPFNY"
      },
      "outputs": [],
      "source": [
        "import bs4\n",
        "from bs4 import BeautifulSoup\n",
        "import selenium\n",
        "import requests\n",
        "from selenium import webdriver\n",
        "from selenium.webdriver.common.keys import Keys\n",
        "from selenium.webdriver.common.by import By\n",
        "import time\n",
        "from selenium.common.exceptions import NoSuchElementException\n",
        "from selenium.webdriver.support.ui import WebDriverWait\n",
        "from selenium.webdriver.support import expected_conditions as EC\n",
        "import pandas as pd\n",
        "import copy\n",
        "import streamlit as st\n",
        "from utils.selenium import element_exists, bypass_captcha, wait_for, hcaptcha_solution\n",
        "from utils.login import login_google, login_indeed\n",
        "from utils.threading import init_drivers\n",
        "\n",
        "\n"
      ]
    },
    {
      "cell_type": "markdown",
      "metadata": {},
      "source": [
        "# code qui marche"
      ]
    },
    {
      "cell_type": "code",
      "execution_count": 1,
      "metadata": {},
      "outputs": [
        {
          "name": "stdout",
          "output_type": "stream",
          "text": [
            "range: 2\n",
            "Creating driver\n",
            "Creating driver\n",
            "range: 6\n",
            "Creating driver\n",
            "range: 2\n",
            "Creating driver\n",
            "Creating driver\n",
            "Creating driver\n",
            "Creating driver\n",
            "Creating driver\n",
            "drivers_types [[[<selenium.webdriver.chrome.webdriver.WebDriver (session=\"a61072b8bbc43f7ef33638ef28307bd9\")>], [<selenium.webdriver.chrome.webdriver.WebDriver (session=\"776f127643e92e4e4f0bf1f4d8cb6b81\")>]], [[<selenium.webdriver.chrome.webdriver.WebDriver (session=\"fe37d14bd0f93b5306e8b31edfcf30ac\")>, <selenium.webdriver.chrome.webdriver.WebDriver (session=\"852e0f2ddae8b15446782bf372b1ccd9\")>, <selenium.webdriver.chrome.webdriver.WebDriver (session=\"69954dd5debba703f0595a83b494136a\")>], [<selenium.webdriver.chrome.webdriver.WebDriver (session=\"6cf36504259e9634a3d7d7e8fb703f95\")>, <selenium.webdriver.chrome.webdriver.WebDriver (session=\"d6d1f48f7e3cbaee33e669c4f432f532\")>, <selenium.webdriver.chrome.webdriver.WebDriver (session=\"96f297334ba394ade52c14d3bf0e66cf\")>]], [[<selenium.webdriver.chrome.webdriver.WebDriver (session=\"f68c1fa837525d50a78e86b5b7424540\")>], [<selenium.webdriver.chrome.webdriver.WebDriver (session=\"e6efe2d0787d7499e9c5014f469328ea\")>]]]\n",
            "processes [[<selenium.webdriver.chrome.webdriver.WebDriver (session=\"a61072b8bbc43f7ef33638ef28307bd9\")>, <selenium.webdriver.chrome.webdriver.WebDriver (session=\"fe37d14bd0f93b5306e8b31edfcf30ac\")>, <selenium.webdriver.chrome.webdriver.WebDriver (session=\"852e0f2ddae8b15446782bf372b1ccd9\")>, <selenium.webdriver.chrome.webdriver.WebDriver (session=\"69954dd5debba703f0595a83b494136a\")>, <selenium.webdriver.chrome.webdriver.WebDriver (session=\"f68c1fa837525d50a78e86b5b7424540\")>], [<selenium.webdriver.chrome.webdriver.WebDriver (session=\"776f127643e92e4e4f0bf1f4d8cb6b81\")>, <selenium.webdriver.chrome.webdriver.WebDriver (session=\"6cf36504259e9634a3d7d7e8fb703f95\")>, <selenium.webdriver.chrome.webdriver.WebDriver (session=\"d6d1f48f7e3cbaee33e669c4f432f532\")>, <selenium.webdriver.chrome.webdriver.WebDriver (session=\"96f297334ba394ade52c14d3bf0e66cf\")>, <selenium.webdriver.chrome.webdriver.WebDriver (session=\"e6efe2d0787d7499e9c5014f469328ea\")>]]\n"
          ]
        }
      ],
      "source": [
        "from utils.threading import init_drivers_instances\n",
        "from utils.threading import init_drivers\n",
        "from utils.processing.linkedin import setup_linkedin\n",
        "from utils.login import login_glassdoor,login_linkedin\n",
        "from utils.selenium import create_driver\n",
        "\n",
        "nb_pages = 2\n",
        "\n",
        "l_email = \"scrapperselenium@gmail.com\"\n",
        "l_password= \"Password123!*\"\n",
        "\n",
        "g_email = \"severin.lefebure@edu.devinci.fr\"\n",
        "g_password = \"jesuisungenie\"\n",
        "job = \"Data Analyst\"\n",
        "city = \"Paris\"\n",
        "\n",
        "linkedin_func = setup_linkedin\n",
        "linkedin_nb_drivers = 1\n",
        "l_args = [None, l_email, l_password, False, False]\n",
        "\n",
        "glassdoor_func = login_glassdoor\n",
        "glassdoor_nb_drivers = 3\n",
        "g_args = [None, g_email, g_password, False, False]\n",
        "\n",
        "eco_func = create_driver\n",
        "eco_nb_drivers = 1\n",
        "eco_args = [False]\n",
        "\n",
        "processes = init_drivers_instances(nb_pages, (linkedin_func,linkedin_nb_drivers,l_args),\n",
        "                       (glassdoor_func,glassdoor_nb_drivers,g_args),\n",
        "                       (eco_func, eco_nb_drivers, eco_args))"
      ]
    },
    {
      "cell_type": "code",
      "execution_count": 5,
      "metadata": {},
      "outputs": [],
      "source": [
        "global list_\n",
        "def test(list_: list):\n",
        "    if 1 not in list_:\n",
        "        list_.append(1)"
      ]
    },
    {
      "cell_type": "code",
      "execution_count": 6,
      "metadata": {},
      "outputs": [
        {
          "name": "stdout",
          "output_type": "stream",
          "text": [
            "[1]\n",
            "[1]\n"
          ]
        }
      ],
      "source": [
        "global list_\n",
        "list_ = []\n",
        "for i in range(2):\n",
        "    test(list_)\n",
        "    print(list_)"
      ]
    },
    {
      "cell_type": "code",
      "execution_count": 8,
      "metadata": {},
      "outputs": [
        {
          "name": "stdout",
          "output_type": "stream",
          "text": [
            "range: 2\n",
            "range: 4\n",
            "range: 6\n",
            "drivers_types [[[<selenium.webdriver.chrome.webdriver.WebDriver (session=\"cd65ff620db28cb92b3b969ce5fffdad\")>], [<selenium.webdriver.chrome.webdriver.WebDriver (session=\"07f2ffe344a00e8b24ae017899249b33\")>]], [[<selenium.webdriver.chrome.webdriver.WebDriver (session=\"b3d2169ff781a51491fb8c646ceb9166\")>, <selenium.webdriver.chrome.webdriver.WebDriver (session=\"d6bc29213eb9531af59328cad5405f1a\")>], [<selenium.webdriver.chrome.webdriver.WebDriver (session=\"eb56080788a7b225a344366c436cdaa8\")>, <selenium.webdriver.chrome.webdriver.WebDriver (session=\"5343b0f255d46b62c4c64fda62204f22\")>]], [[<selenium.webdriver.chrome.webdriver.WebDriver (session=\"11deb059bd9b981a1f9a556a4d786bd0\")>, <selenium.webdriver.chrome.webdriver.WebDriver (session=\"d63322cddaf803aece780238a8e9b5bc\")>, <selenium.webdriver.chrome.webdriver.WebDriver (session=\"43094e4f6635c5fc587ef42c6a5668f2\")>], [<selenium.webdriver.chrome.webdriver.WebDriver (session=\"c40070beab822db9b97454022e32bf4b\")>, <selenium.webdriver.chrome.webdriver.WebDriver (session=\"fb33f117bdb508998896f2a6a717afe0\")>, <selenium.webdriver.chrome.webdriver.WebDriver (session=\"b03e78ddb8eb79d05b7cb0c696d1081b\")>]]]\n",
            "processes [[<selenium.webdriver.chrome.webdriver.WebDriver (session=\"cd65ff620db28cb92b3b969ce5fffdad\")>, <selenium.webdriver.chrome.webdriver.WebDriver (session=\"b3d2169ff781a51491fb8c646ceb9166\")>, <selenium.webdriver.chrome.webdriver.WebDriver (session=\"d6bc29213eb9531af59328cad5405f1a\")>, <selenium.webdriver.chrome.webdriver.WebDriver (session=\"11deb059bd9b981a1f9a556a4d786bd0\")>, <selenium.webdriver.chrome.webdriver.WebDriver (session=\"d63322cddaf803aece780238a8e9b5bc\")>, <selenium.webdriver.chrome.webdriver.WebDriver (session=\"43094e4f6635c5fc587ef42c6a5668f2\")>], [<selenium.webdriver.chrome.webdriver.WebDriver (session=\"07f2ffe344a00e8b24ae017899249b33\")>, <selenium.webdriver.chrome.webdriver.WebDriver (session=\"eb56080788a7b225a344366c436cdaa8\")>, <selenium.webdriver.chrome.webdriver.WebDriver (session=\"5343b0f255d46b62c4c64fda62204f22\")>, <selenium.webdriver.chrome.webdriver.WebDriver (session=\"c40070beab822db9b97454022e32bf4b\")>, <selenium.webdriver.chrome.webdriver.WebDriver (session=\"fb33f117bdb508998896f2a6a717afe0\")>, <selenium.webdriver.chrome.webdriver.WebDriver (session=\"b03e78ddb8eb79d05b7cb0c696d1081b\")>]]\n"
          ]
        }
      ],
      "source": [
        "from utils.threading import init_drivers_instances\n",
        "from utils.selenium import create_driver\n",
        "\n",
        "processes = init_drivers_instances(2,\n",
        "                       (create_driver, 1, []),\n",
        "                       (create_driver, 2, []),\n",
        "                       (create_driver, 3, []))"
      ]
    },
    {
      "cell_type": "code",
      "execution_count": 2,
      "metadata": {},
      "outputs": [],
      "source": [
        "from utils.threading import quit_drivers\n",
        "quit_drivers(processes)"
      ]
    },
    {
      "cell_type": "code",
      "execution_count": 3,
      "metadata": {},
      "outputs": [
        {
          "name": "stdout",
          "output_type": "stream",
          "text": [
            "len_driver 1 [[]]\n",
            "0\n",
            "range: 1\n",
            "<ThreadWithReturnValue(Thread-5 (setup_linkedin), initial)>\n",
            "Creating driver\n",
            "return None\n",
            "<selenium.webdriver.chrome.webdriver.WebDriver (session=\"a1796384da56880526ea52bc633543db\")>\n",
            "len_driver 1 [[]]\n",
            "0\n",
            "range: 3\n",
            "<ThreadWithReturnValue(Thread-8 (login_glassdoor), initial)>\n",
            "Creating driver\n",
            "return None\n",
            "<ThreadWithReturnValue(Thread-9 (login_glassdoor), initial)>\n",
            "Creating driver\n",
            "return None\n",
            "<ThreadWithReturnValue(Thread-10 (login_glassdoor), initial)>\n",
            "Creating driver\n",
            "return None\n",
            "<selenium.webdriver.chrome.webdriver.WebDriver (session=\"78019a460ef4420393752ce8bc26b8aa\")>\n",
            "<selenium.webdriver.chrome.webdriver.WebDriver (session=\"7d38e24cf79c2983322115001dfb1859\")>\n",
            "<selenium.webdriver.chrome.webdriver.WebDriver (session=\"057fa9ff46844302640c7c9dd094f7e6\")>\n",
            "len_driver 1 [[]]\n",
            "0\n",
            "range: 1\n",
            "<ThreadWithReturnValue(Thread-17 (create_driver), initial)>\n",
            "return None\n",
            "<selenium.webdriver.chrome.webdriver.WebDriver (session=\"f7d8ff521dc186dd975a58517e1a22ad\")>\n",
            "[[<selenium.webdriver.chrome.webdriver.WebDriver (session=\"a1796384da56880526ea52bc633543db\")>], [<selenium.webdriver.chrome.webdriver.WebDriver (session=\"78019a460ef4420393752ce8bc26b8aa\")>, <selenium.webdriver.chrome.webdriver.WebDriver (session=\"7d38e24cf79c2983322115001dfb1859\")>, <selenium.webdriver.chrome.webdriver.WebDriver (session=\"057fa9ff46844302640c7c9dd094f7e6\")>], [<selenium.webdriver.chrome.webdriver.WebDriver (session=\"f7d8ff521dc186dd975a58517e1a22ad\")>]]\n"
          ]
        }
      ],
      "source": [
        "from utils.threading import init_drivers\n",
        "from utils.processing.linkedin import setup_linkedin\n",
        "from utils.login import login_glassdoor,login_linkedin\n",
        "from utils.selenium import create_driver\n",
        "l_email = \"scrapperselenium@gmail.com\"\n",
        "l_password= \"Password123!*\"\n",
        "\n",
        "g_email = \"severin.lefebure@edu.devinci.fr\"\n",
        "g_password = \"jesuisungenie\"\n",
        "job = \"Data Analyst\"\n",
        "city = \"Paris\"\n",
        "#5 drivers\n",
        "#do threads\n",
        "l_drivers = init_drivers(1,func=setup_linkedin, args=[None, l_email, l_password, False, False])\n",
        "g_drivers = init_drivers(3,func=login_glassdoor, args=[None, g_email, g_password, False, False])\n",
        "useless_drivers = init_drivers(1, func=create_driver, args=[False])\n",
        "drivers = l_drivers+g_drivers+useless_drivers\n",
        "# l_drivers = 0\n",
        "# g_drivers = 1,2,3\n",
        "# e_drivers = 4 \n",
        "print(drivers)"
      ]
    },
    {
      "cell_type": "code",
      "execution_count": 52,
      "metadata": {},
      "outputs": [
        {
          "name": "stdout",
          "output_type": "stream",
          "text": [
            "ok\n",
            "filter: Classer par\n",
            "advanced-filter-sortBy-DD|&f_SBDD\n",
            "advanced-filter-sortBy-R|&f_SBR\n",
            "\n",
            "ok\n",
            "filter: Date de publication\n",
            "advanced-filter-timePostedRange-|&f_TPR\n",
            "advanced-filter-timePostedRange-r2592000|&f_TPR\n",
            "advanced-filter-timePostedRange-r604800|&f_TPR\n",
            "advanced-filter-timePostedRange-r86400|&f_TPR\n",
            "\n",
            "ok\n",
            "filter: Niveau d’expérience\n",
            "advanced-filter-experience-1|&f_E\n",
            "advanced-filter-experience-2|&f_E\n",
            "advanced-filter-experience-3|&f_E\n",
            "advanced-filter-experience-4|&f_E\n",
            "advanced-filter-experience-5|&f_E\n",
            "advanced-filter-experience-6|&f_E\n",
            "\n",
            "ok\n",
            "filter: Entreprise\n",
            "advanced-filter-company-11084085|&f_C\n",
            "advanced-filter-company-1258653|&f_C\n",
            "advanced-filter-company-12627290|&f_C\n",
            "advanced-filter-company-93089723|&f_C\n",
            "advanced-filter-company-2536626|&f_C\n",
            "advanced-filter-company-9485372|&f_C\n",
            "advanced-filter-company-66719|&f_C\n",
            "advanced-filter-company-3896|&f_C\n",
            "advanced-filter-company-68841835|&f_C\n",
            "advanced-filter-company-1691|&f_C\n",
            "advanced-filter-company-498995|&f_C\n",
            "advanced-filter-company-2046490|&f_C\n",
            "advanced-filter-company-28542|&f_C\n",
            "advanced-filter-company-97599|&f_C\n",
            "advanced-filter-company-1951|&f_C\n",
            "\n",
            "ok\n",
            "filter: Type de contrat\n",
            "advanced-filter-jobType-F|&f_JTF\n",
            "advanced-filter-jobType-P|&f_JTP\n",
            "advanced-filter-jobType-C|&f_JTC\n",
            "advanced-filter-jobType-T|&f_JTT\n",
            "advanced-filter-jobType-I|&f_JTI\n",
            "advanced-filter-jobType-O|&f_JTO\n",
            "\n",
            "ok\n",
            "filter: Remote\n",
            "advanced-filter-workplaceType-1|&f_WT\n",
            "advanced-filter-workplaceType-3|&f_WT\n",
            "advanced-filter-workplaceType-2|&f_WT\n",
            "\n",
            "ok\n",
            "filter: Collections d’offres d’emploi\n",
            "advanced-filter-jobCollections-(0,lisystem,green-jobs)|&f_JC\n",
            "\n",
            "ok\n",
            "filter: Candidature simplifiée\n",
            "no filter\n",
            "ok\n",
            "filter: Lieu\n",
            "advanced-filter-populatedPlace-101240143|&f_PP\n",
            "advanced-filter-populatedPlace-103815258|&f_PP\n",
            "advanced-filter-populatedPlace-104787182|&f_PP\n",
            "advanced-filter-populatedPlace-105073465|&f_PP\n",
            "advanced-filter-populatedPlace-100323840|&f_PP\n",
            "advanced-filter-populatedPlace-102565100|&f_PP\n",
            "advanced-filter-populatedPlace-102924436|&f_PP\n",
            "advanced-filter-populatedPlace-106218810|&f_PP\n",
            "advanced-filter-populatedPlace-107129954|&f_PP\n",
            "advanced-filter-populatedPlace-108051010|&f_PP\n",
            "advanced-filter-populatedPlace-100421288|&f_PP\n",
            "\n",
            "ok\n",
            "filter: Secteur\n",
            "advanced-filter-industry-96|&f_I\n",
            "advanced-filter-industry-4|&f_I\n",
            "advanced-filter-industry-137|&f_I\n",
            "advanced-filter-industry-41|&f_I\n",
            "advanced-filter-industry-43|&f_I\n",
            "advanced-filter-industry-42|&f_I\n",
            "advanced-filter-industry-104|&f_I\n",
            "advanced-filter-industry-6|&f_I\n",
            "advanced-filter-industry-70|&f_I\n",
            "advanced-filter-industry-52|&f_I\n",
            "advanced-filter-industry-27|&f_I\n",
            "advanced-filter-industry-15|&f_I\n",
            "advanced-filter-industry-48|&f_I\n",
            "\n",
            "ok\n",
            "filter: Fonction\n",
            "advanced-filter-function-it|&f_F\n",
            "advanced-filter-function-anls|&f_F\n",
            "advanced-filter-function-othr|&f_F\n",
            "advanced-filter-function-eng|&f_F\n",
            "advanced-filter-function-rsch|&f_F\n",
            "advanced-filter-function-cnsl|&f_F\n",
            "advanced-filter-function-fin|&f_F\n",
            "advanced-filter-function-sale|&f_F\n",
            "advanced-filter-function-mrkt|&f_F\n",
            "advanced-filter-function-bd|&f_F\n",
            "\n",
            "ok\n",
            "filter: Titre de l’offre d’emploi\n",
            "advanced-filter-title-340|&f_T\n",
            "advanced-filter-title-843|&f_T\n",
            "advanced-filter-title-2463|&f_T\n",
            "advanced-filter-title-733|&f_T\n",
            "advanced-filter-title-6358|&f_T\n",
            "advanced-filter-title-1547|&f_T\n",
            "advanced-filter-title-1577|&f_T\n",
            "advanced-filter-title-5775|&f_T\n",
            "advanced-filter-title-13|&f_T\n",
            "advanced-filter-title-8227|&f_T\n",
            "advanced-filter-title-29|&f_T\n",
            "advanced-filter-title-2336|&f_T\n",
            "advanced-filter-title-3506|&f_T\n",
            "\n",
            "ok\n",
            "filter: Moins de 10 candidatures\n",
            "no filter\n",
            "ok\n",
            "filter: Dans votre réseau\n",
            "no filter\n",
            "ok\n",
            "filter: Employeur donnant une chance égale à tous\n",
            "no filter\n",
            "ok\n",
            "filter: Engagements\n",
            "advanced-filter-commitments-1|&f_C\n",
            "advanced-filter-commitments-2|&f_C\n",
            "advanced-filter-commitments-4|&f_C\n",
            "advanced-filter-commitments-3|&f_C\n",
            "advanced-filter-commitments-5|&f_C\n",
            "\n"
          ]
        }
      ],
      "source": [
        "from selenium.webdriver.common.action_chains import ActionChains\n",
        "\n",
        "dico_filter = {}\n",
        "\n",
        "filter_panel = drivers[0][0].find_element(By.CSS_SELECTOR, '[aria-labelledby=\"reusable-search-advanced-filters-right-panel\"]')\n",
        "filters = filter_panel.find_elements(By.CLASS_NAME, \"search-reusables__secondary-filters-filter\")#\"search-reusables__filter-value-item\")\n",
        "for filter in filters:\n",
        "    hover = ActionChains(drivers[0][0]).move_to_element(filter)\n",
        "    hover.perform()\n",
        "    print(\"ok\")\n",
        "    filter_name = filter.find_element(By.TAG_NAME, \"h3\").text\n",
        "    print(\"filter:\", filter_name)\n",
        "    try:\n",
        "        filter_info = filter.find_element(By.CLASS_NAME, \"search-reusables__secondary-filters-values\")\n",
        "        filter_text = filter_info.text.split(\"\\n\")[::2]\n",
        "        filters_tag = filter_info.find_elements(By.TAG_NAME, \"input\")\n",
        "        tag_list = []\n",
        "        for tag in filters_tag:\n",
        "            tag_id = tag.get_attribute(\"id\")\n",
        "            print(tag_id, end=\"|\")\n",
        "            tag_id = tag_id.replace(\"advanced-filter-\",\"\").replace(\"-\",\"=\")\n",
        "            tag_list.append(tag_id)\n",
        "            capital_letters = tag_id[0].upper() + \"\".join([letter for letter in tag_id[1:] if letter.isupper()])\n",
        "            REAL_FILTER = f\"&f_{capital_letters}\"\n",
        "            print(REAL_FILTER)\n",
        "            \n",
        "        dico_filter[filter_name] = tag_list\n",
        "        print()\n",
        "        #print(filter_text, tag_list)\n",
        "    except:\n",
        "        dico_filter[filter_name] = []\n",
        "        print(\"no filter\")"
      ]
    },
    {
      "cell_type": "code",
      "execution_count": 4,
      "metadata": {},
      "outputs": [
        {
          "data": {
            "text/plain": [
              "[<selenium.webdriver.chrome.webdriver.WebDriver (session=\"a1796384da56880526ea52bc633543db\")>,\n",
              " <selenium.webdriver.chrome.webdriver.WebDriver (session=\"78019a460ef4420393752ce8bc26b8aa\")>,\n",
              " <selenium.webdriver.chrome.webdriver.WebDriver (session=\"7d38e24cf79c2983322115001dfb1859\")>,\n",
              " <selenium.webdriver.chrome.webdriver.WebDriver (session=\"057fa9ff46844302640c7c9dd094f7e6\")>,\n",
              " <selenium.webdriver.chrome.webdriver.WebDriver (session=\"f7d8ff521dc186dd975a58517e1a22ad\")>]"
            ]
          },
          "execution_count": 4,
          "metadata": {},
          "output_type": "execute_result"
        }
      ],
      "source": [
        "drivers2 = []\n",
        "for driverss in drivers:\n",
        "    for driver in driverss:\n",
        "        drivers2.append(driver)\n",
        "drivers2"
      ]
    },
    {
      "cell_type": "code",
      "execution_count": 7,
      "metadata": {},
      "outputs": [],
      "source": [
        "#for driver_list in drivers2:\n",
        "for driver in drivers2:\n",
        "    driver.quit()"
      ]
    },
    {
      "cell_type": "code",
      "execution_count": 5,
      "metadata": {},
      "outputs": [
        {
          "name": "stdout",
          "output_type": "stream",
          "text": [
            "get job data\n"
          ]
        },
        {
          "ename": "KeyboardInterrupt",
          "evalue": "",
          "output_type": "error",
          "traceback": [
            "\u001b[1;31m---------------------------------------------------------------------------\u001b[0m",
            "\u001b[1;31mKeyboardInterrupt\u001b[0m                         Traceback (most recent call last)",
            "Cell \u001b[1;32mIn[5], line 4\u001b[0m\n\u001b[0;32m      1\u001b[0m \u001b[38;5;66;03m### Scrap the page data\u001b[39;00m\n\u001b[0;32m      2\u001b[0m \u001b[38;5;66;03m#drivers = [main_driver, lookup_driver]\u001b[39;00m\n\u001b[0;32m      3\u001b[0m \u001b[38;5;28;01mfrom\u001b[39;00m \u001b[38;5;21;01mutils\u001b[39;00m\u001b[38;5;21;01m.\u001b[39;00m\u001b[38;5;21;01mscrapping\u001b[39;00m\u001b[38;5;21;01m.\u001b[39;00m\u001b[38;5;21;01mlinkedin\u001b[39;00m \u001b[38;5;28;01mimport\u001b[39;00m get_job_data\n\u001b[1;32m----> 4\u001b[0m \u001b[43mget_job_data\u001b[49m\u001b[43m(\u001b[49m\u001b[43mdrivers2\u001b[49m\u001b[43m,\u001b[49m\u001b[43m \u001b[49m\u001b[43mjob\u001b[49m\u001b[43m,\u001b[49m\u001b[43m \u001b[49m\u001b[43mcity\u001b[49m\u001b[43m,\u001b[49m\u001b[43m \u001b[49m\u001b[43mverbose\u001b[49m\u001b[38;5;241;43m=\u001b[39;49m\u001b[38;5;28;43;01mTrue\u001b[39;49;00m\u001b[43m,\u001b[49m\u001b[43m \u001b[49m\u001b[43mbypass\u001b[49m\u001b[38;5;241;43m=\u001b[39;49m\u001b[38;5;28;43;01mTrue\u001b[39;49;00m\u001b[43m,\u001b[49m\u001b[43m \u001b[49m\u001b[43mlimit\u001b[49m\u001b[38;5;241;43m=\u001b[39;49m\u001b[38;5;241;43m1\u001b[39;49m\u001b[43m)\u001b[49m\n",
            "File \u001b[1;32mc:\\Users\\sever\\Documents\\ESILV\\A5\\S1\\scrapping mes couilles\\Webscrapping-Project\\utils\\scrapping\\linkedin.py:79\u001b[0m, in \u001b[0;36mget_job_data\u001b[1;34m(drivers, job, location, verbose, limit, bypass)\u001b[0m\n\u001b[0;32m     77\u001b[0m \u001b[38;5;66;03m# driver that looks for information on glassdoor\u001b[39;00m\n\u001b[0;32m     78\u001b[0m glassdoor_drivers \u001b[38;5;241m=\u001b[39m drivers[\u001b[38;5;241m1\u001b[39m:\u001b[38;5;241m4\u001b[39m]\n\u001b[1;32m---> 79\u001b[0m \u001b[43mglassdoor_drivers\u001b[49m\u001b[43m[\u001b[49m\u001b[38;5;241;43m0\u001b[39;49m\u001b[43m]\u001b[49m\u001b[38;5;241;43m.\u001b[39;49m\u001b[43mget\u001b[49m\u001b[43m(\u001b[49m\u001b[38;5;124;43m\"\u001b[39;49m\u001b[38;5;124;43mhttps://www.glassdoor.fr/Avis/index.htm\u001b[39;49m\u001b[38;5;124;43m\"\u001b[39;49m\u001b[43m)\u001b[49m\n\u001b[0;32m     80\u001b[0m \u001b[38;5;66;03m# driver that looks for the ecological score of the company\u001b[39;00m\n\u001b[0;32m     81\u001b[0m eco_driver \u001b[38;5;241m=\u001b[39m drivers[\u001b[38;5;241m-\u001b[39m\u001b[38;5;241m1\u001b[39m]\n",
            "File \u001b[1;32mc:\\Users\\sever\\AppData\\Local\\Programs\\Python\\Python310\\lib\\site-packages\\selenium\\webdriver\\remote\\webdriver.py:357\u001b[0m, in \u001b[0;36mWebDriver.get\u001b[1;34m(self, url)\u001b[0m\n\u001b[0;32m    355\u001b[0m \u001b[38;5;28;01mdef\u001b[39;00m \u001b[38;5;21mget\u001b[39m(\u001b[38;5;28mself\u001b[39m, url: \u001b[38;5;28mstr\u001b[39m) \u001b[38;5;241m-\u001b[39m\u001b[38;5;241m>\u001b[39m \u001b[38;5;28;01mNone\u001b[39;00m:\n\u001b[0;32m    356\u001b[0m \u001b[38;5;250m    \u001b[39m\u001b[38;5;124;03m\"\"\"Loads a web page in the current browser session.\"\"\"\u001b[39;00m\n\u001b[1;32m--> 357\u001b[0m     \u001b[38;5;28;43mself\u001b[39;49m\u001b[38;5;241;43m.\u001b[39;49m\u001b[43mexecute\u001b[49m\u001b[43m(\u001b[49m\u001b[43mCommand\u001b[49m\u001b[38;5;241;43m.\u001b[39;49m\u001b[43mGET\u001b[49m\u001b[43m,\u001b[49m\u001b[43m \u001b[49m\u001b[43m{\u001b[49m\u001b[38;5;124;43m\"\u001b[39;49m\u001b[38;5;124;43murl\u001b[39;49m\u001b[38;5;124;43m\"\u001b[39;49m\u001b[43m:\u001b[49m\u001b[43m \u001b[49m\u001b[43murl\u001b[49m\u001b[43m}\u001b[49m\u001b[43m)\u001b[49m\n",
            "File \u001b[1;32mc:\\Users\\sever\\AppData\\Local\\Programs\\Python\\Python310\\lib\\site-packages\\selenium\\webdriver\\remote\\webdriver.py:346\u001b[0m, in \u001b[0;36mWebDriver.execute\u001b[1;34m(self, driver_command, params)\u001b[0m\n\u001b[0;32m    343\u001b[0m     \u001b[38;5;28;01melif\u001b[39;00m \u001b[38;5;124m\"\u001b[39m\u001b[38;5;124msessionId\u001b[39m\u001b[38;5;124m\"\u001b[39m \u001b[38;5;129;01mnot\u001b[39;00m \u001b[38;5;129;01min\u001b[39;00m params:\n\u001b[0;32m    344\u001b[0m         params[\u001b[38;5;124m\"\u001b[39m\u001b[38;5;124msessionId\u001b[39m\u001b[38;5;124m\"\u001b[39m] \u001b[38;5;241m=\u001b[39m \u001b[38;5;28mself\u001b[39m\u001b[38;5;241m.\u001b[39msession_id\n\u001b[1;32m--> 346\u001b[0m response \u001b[38;5;241m=\u001b[39m \u001b[38;5;28;43mself\u001b[39;49m\u001b[38;5;241;43m.\u001b[39;49m\u001b[43mcommand_executor\u001b[49m\u001b[38;5;241;43m.\u001b[39;49m\u001b[43mexecute\u001b[49m\u001b[43m(\u001b[49m\u001b[43mdriver_command\u001b[49m\u001b[43m,\u001b[49m\u001b[43m \u001b[49m\u001b[43mparams\u001b[49m\u001b[43m)\u001b[49m\n\u001b[0;32m    347\u001b[0m \u001b[38;5;28;01mif\u001b[39;00m response:\n\u001b[0;32m    348\u001b[0m     \u001b[38;5;28mself\u001b[39m\u001b[38;5;241m.\u001b[39merror_handler\u001b[38;5;241m.\u001b[39mcheck_response(response)\n",
            "File \u001b[1;32mc:\\Users\\sever\\AppData\\Local\\Programs\\Python\\Python310\\lib\\site-packages\\selenium\\webdriver\\remote\\remote_connection.py:300\u001b[0m, in \u001b[0;36mRemoteConnection.execute\u001b[1;34m(self, command, params)\u001b[0m\n\u001b[0;32m    298\u001b[0m data \u001b[38;5;241m=\u001b[39m utils\u001b[38;5;241m.\u001b[39mdump_json(params)\n\u001b[0;32m    299\u001b[0m url \u001b[38;5;241m=\u001b[39m \u001b[38;5;124mf\u001b[39m\u001b[38;5;124m\"\u001b[39m\u001b[38;5;132;01m{\u001b[39;00m\u001b[38;5;28mself\u001b[39m\u001b[38;5;241m.\u001b[39m_url\u001b[38;5;132;01m}\u001b[39;00m\u001b[38;5;132;01m{\u001b[39;00mpath\u001b[38;5;132;01m}\u001b[39;00m\u001b[38;5;124m\"\u001b[39m\n\u001b[1;32m--> 300\u001b[0m \u001b[38;5;28;01mreturn\u001b[39;00m \u001b[38;5;28;43mself\u001b[39;49m\u001b[38;5;241;43m.\u001b[39;49m\u001b[43m_request\u001b[49m\u001b[43m(\u001b[49m\u001b[43mcommand_info\u001b[49m\u001b[43m[\u001b[49m\u001b[38;5;241;43m0\u001b[39;49m\u001b[43m]\u001b[49m\u001b[43m,\u001b[49m\u001b[43m \u001b[49m\u001b[43murl\u001b[49m\u001b[43m,\u001b[49m\u001b[43m \u001b[49m\u001b[43mbody\u001b[49m\u001b[38;5;241;43m=\u001b[39;49m\u001b[43mdata\u001b[49m\u001b[43m)\u001b[49m\n",
            "File \u001b[1;32mc:\\Users\\sever\\AppData\\Local\\Programs\\Python\\Python310\\lib\\site-packages\\selenium\\webdriver\\remote\\remote_connection.py:321\u001b[0m, in \u001b[0;36mRemoteConnection._request\u001b[1;34m(self, method, url, body)\u001b[0m\n\u001b[0;32m    318\u001b[0m     body \u001b[38;5;241m=\u001b[39m \u001b[38;5;28;01mNone\u001b[39;00m\n\u001b[0;32m    320\u001b[0m \u001b[38;5;28;01mif\u001b[39;00m \u001b[38;5;28mself\u001b[39m\u001b[38;5;241m.\u001b[39mkeep_alive:\n\u001b[1;32m--> 321\u001b[0m     response \u001b[38;5;241m=\u001b[39m \u001b[38;5;28;43mself\u001b[39;49m\u001b[38;5;241;43m.\u001b[39;49m\u001b[43m_conn\u001b[49m\u001b[38;5;241;43m.\u001b[39;49m\u001b[43mrequest\u001b[49m\u001b[43m(\u001b[49m\u001b[43mmethod\u001b[49m\u001b[43m,\u001b[49m\u001b[43m \u001b[49m\u001b[43murl\u001b[49m\u001b[43m,\u001b[49m\u001b[43m \u001b[49m\u001b[43mbody\u001b[49m\u001b[38;5;241;43m=\u001b[39;49m\u001b[43mbody\u001b[49m\u001b[43m,\u001b[49m\u001b[43m \u001b[49m\u001b[43mheaders\u001b[49m\u001b[38;5;241;43m=\u001b[39;49m\u001b[43mheaders\u001b[49m\u001b[43m)\u001b[49m\n\u001b[0;32m    322\u001b[0m     statuscode \u001b[38;5;241m=\u001b[39m response\u001b[38;5;241m.\u001b[39mstatus\n\u001b[0;32m    323\u001b[0m \u001b[38;5;28;01melse\u001b[39;00m:\n",
            "File \u001b[1;32mc:\\Users\\sever\\AppData\\Local\\Programs\\Python\\Python310\\lib\\site-packages\\urllib3\\_request_methods.py:118\u001b[0m, in \u001b[0;36mRequestMethods.request\u001b[1;34m(self, method, url, body, fields, headers, json, **urlopen_kw)\u001b[0m\n\u001b[0;32m    110\u001b[0m     \u001b[38;5;28;01mreturn\u001b[39;00m \u001b[38;5;28mself\u001b[39m\u001b[38;5;241m.\u001b[39mrequest_encode_url(\n\u001b[0;32m    111\u001b[0m         method,\n\u001b[0;32m    112\u001b[0m         url,\n\u001b[1;32m   (...)\u001b[0m\n\u001b[0;32m    115\u001b[0m         \u001b[38;5;241m*\u001b[39m\u001b[38;5;241m*\u001b[39murlopen_kw,\n\u001b[0;32m    116\u001b[0m     )\n\u001b[0;32m    117\u001b[0m \u001b[38;5;28;01melse\u001b[39;00m:\n\u001b[1;32m--> 118\u001b[0m     \u001b[38;5;28;01mreturn\u001b[39;00m \u001b[38;5;28mself\u001b[39m\u001b[38;5;241m.\u001b[39mrequest_encode_body(\n\u001b[0;32m    119\u001b[0m         method, url, fields\u001b[38;5;241m=\u001b[39mfields, headers\u001b[38;5;241m=\u001b[39mheaders, \u001b[38;5;241m*\u001b[39m\u001b[38;5;241m*\u001b[39murlopen_kw\n\u001b[0;32m    120\u001b[0m     )\n",
            "File \u001b[1;32mc:\\Users\\sever\\AppData\\Local\\Programs\\Python\\Python310\\lib\\site-packages\\urllib3\\_request_methods.py:217\u001b[0m, in \u001b[0;36mRequestMethods.request_encode_body\u001b[1;34m(self, method, url, fields, headers, encode_multipart, multipart_boundary, **urlopen_kw)\u001b[0m\n\u001b[0;32m    213\u001b[0m     extra_kw[\u001b[38;5;124m\"\u001b[39m\u001b[38;5;124mheaders\u001b[39m\u001b[38;5;124m\"\u001b[39m]\u001b[38;5;241m.\u001b[39msetdefault(\u001b[38;5;124m\"\u001b[39m\u001b[38;5;124mContent-Type\u001b[39m\u001b[38;5;124m\"\u001b[39m, content_type)\n\u001b[0;32m    215\u001b[0m extra_kw\u001b[38;5;241m.\u001b[39mupdate(urlopen_kw)\n\u001b[1;32m--> 217\u001b[0m \u001b[38;5;28;01mreturn\u001b[39;00m \u001b[38;5;28mself\u001b[39m\u001b[38;5;241m.\u001b[39murlopen(method, url, \u001b[38;5;241m*\u001b[39m\u001b[38;5;241m*\u001b[39mextra_kw)\n",
            "File \u001b[1;32mc:\\Users\\sever\\AppData\\Local\\Programs\\Python\\Python310\\lib\\site-packages\\urllib3\\poolmanager.py:444\u001b[0m, in \u001b[0;36mPoolManager.urlopen\u001b[1;34m(self, method, url, redirect, **kw)\u001b[0m\n\u001b[0;32m    442\u001b[0m     response \u001b[38;5;241m=\u001b[39m conn\u001b[38;5;241m.\u001b[39murlopen(method, url, \u001b[38;5;241m*\u001b[39m\u001b[38;5;241m*\u001b[39mkw)\n\u001b[0;32m    443\u001b[0m \u001b[38;5;28;01melse\u001b[39;00m:\n\u001b[1;32m--> 444\u001b[0m     response \u001b[38;5;241m=\u001b[39m conn\u001b[38;5;241m.\u001b[39murlopen(method, u\u001b[38;5;241m.\u001b[39mrequest_uri, \u001b[38;5;241m*\u001b[39m\u001b[38;5;241m*\u001b[39mkw)\n\u001b[0;32m    446\u001b[0m redirect_location \u001b[38;5;241m=\u001b[39m redirect \u001b[38;5;129;01mand\u001b[39;00m response\u001b[38;5;241m.\u001b[39mget_redirect_location()\n\u001b[0;32m    447\u001b[0m \u001b[38;5;28;01mif\u001b[39;00m \u001b[38;5;129;01mnot\u001b[39;00m redirect_location:\n",
            "File \u001b[1;32mc:\\Users\\sever\\AppData\\Local\\Programs\\Python\\Python310\\lib\\site-packages\\urllib3\\connectionpool.py:790\u001b[0m, in \u001b[0;36mHTTPConnectionPool.urlopen\u001b[1;34m(self, method, url, body, headers, retries, redirect, assert_same_host, timeout, pool_timeout, release_conn, chunked, body_pos, preload_content, decode_content, **response_kw)\u001b[0m\n\u001b[0;32m    787\u001b[0m response_conn \u001b[38;5;241m=\u001b[39m conn \u001b[38;5;28;01mif\u001b[39;00m \u001b[38;5;129;01mnot\u001b[39;00m release_conn \u001b[38;5;28;01melse\u001b[39;00m \u001b[38;5;28;01mNone\u001b[39;00m\n\u001b[0;32m    789\u001b[0m \u001b[38;5;66;03m# Make the request on the HTTPConnection object\u001b[39;00m\n\u001b[1;32m--> 790\u001b[0m response \u001b[38;5;241m=\u001b[39m \u001b[38;5;28mself\u001b[39m\u001b[38;5;241m.\u001b[39m_make_request(\n\u001b[0;32m    791\u001b[0m     conn,\n\u001b[0;32m    792\u001b[0m     method,\n\u001b[0;32m    793\u001b[0m     url,\n\u001b[0;32m    794\u001b[0m     timeout\u001b[38;5;241m=\u001b[39mtimeout_obj,\n\u001b[0;32m    795\u001b[0m     body\u001b[38;5;241m=\u001b[39mbody,\n\u001b[0;32m    796\u001b[0m     headers\u001b[38;5;241m=\u001b[39mheaders,\n\u001b[0;32m    797\u001b[0m     chunked\u001b[38;5;241m=\u001b[39mchunked,\n\u001b[0;32m    798\u001b[0m     retries\u001b[38;5;241m=\u001b[39mretries,\n\u001b[0;32m    799\u001b[0m     response_conn\u001b[38;5;241m=\u001b[39mresponse_conn,\n\u001b[0;32m    800\u001b[0m     preload_content\u001b[38;5;241m=\u001b[39mpreload_content,\n\u001b[0;32m    801\u001b[0m     decode_content\u001b[38;5;241m=\u001b[39mdecode_content,\n\u001b[0;32m    802\u001b[0m     \u001b[38;5;241m*\u001b[39m\u001b[38;5;241m*\u001b[39mresponse_kw,\n\u001b[0;32m    803\u001b[0m )\n\u001b[0;32m    805\u001b[0m \u001b[38;5;66;03m# Everything went great!\u001b[39;00m\n\u001b[0;32m    806\u001b[0m clean_exit \u001b[38;5;241m=\u001b[39m \u001b[38;5;28;01mTrue\u001b[39;00m\n",
            "File \u001b[1;32mc:\\Users\\sever\\AppData\\Local\\Programs\\Python\\Python310\\lib\\site-packages\\urllib3\\connectionpool.py:536\u001b[0m, in \u001b[0;36mHTTPConnectionPool._make_request\u001b[1;34m(self, conn, method, url, body, headers, retries, timeout, chunked, response_conn, preload_content, decode_content, enforce_content_length)\u001b[0m\n\u001b[0;32m    534\u001b[0m \u001b[38;5;66;03m# Receive the response from the server\u001b[39;00m\n\u001b[0;32m    535\u001b[0m \u001b[38;5;28;01mtry\u001b[39;00m:\n\u001b[1;32m--> 536\u001b[0m     response \u001b[38;5;241m=\u001b[39m \u001b[43mconn\u001b[49m\u001b[38;5;241;43m.\u001b[39;49m\u001b[43mgetresponse\u001b[49m\u001b[43m(\u001b[49m\u001b[43m)\u001b[49m\n\u001b[0;32m    537\u001b[0m \u001b[38;5;28;01mexcept\u001b[39;00m (BaseSSLError, \u001b[38;5;167;01mOSError\u001b[39;00m) \u001b[38;5;28;01mas\u001b[39;00m e:\n\u001b[0;32m    538\u001b[0m     \u001b[38;5;28mself\u001b[39m\u001b[38;5;241m.\u001b[39m_raise_timeout(err\u001b[38;5;241m=\u001b[39me, url\u001b[38;5;241m=\u001b[39murl, timeout_value\u001b[38;5;241m=\u001b[39mread_timeout)\n",
            "File \u001b[1;32mc:\\Users\\sever\\AppData\\Local\\Programs\\Python\\Python310\\lib\\site-packages\\urllib3\\connection.py:461\u001b[0m, in \u001b[0;36mHTTPConnection.getresponse\u001b[1;34m(self)\u001b[0m\n\u001b[0;32m    458\u001b[0m \u001b[38;5;28;01mfrom\u001b[39;00m \u001b[38;5;21;01m.\u001b[39;00m\u001b[38;5;21;01mresponse\u001b[39;00m \u001b[38;5;28;01mimport\u001b[39;00m HTTPResponse\n\u001b[0;32m    460\u001b[0m \u001b[38;5;66;03m# Get the response from http.client.HTTPConnection\u001b[39;00m\n\u001b[1;32m--> 461\u001b[0m httplib_response \u001b[38;5;241m=\u001b[39m \u001b[38;5;28;43msuper\u001b[39;49m\u001b[43m(\u001b[49m\u001b[43m)\u001b[49m\u001b[38;5;241;43m.\u001b[39;49m\u001b[43mgetresponse\u001b[49m\u001b[43m(\u001b[49m\u001b[43m)\u001b[49m\n\u001b[0;32m    463\u001b[0m \u001b[38;5;28;01mtry\u001b[39;00m:\n\u001b[0;32m    464\u001b[0m     assert_header_parsing(httplib_response\u001b[38;5;241m.\u001b[39mmsg)\n",
            "File \u001b[1;32mc:\\Users\\sever\\AppData\\Local\\Programs\\Python\\Python310\\lib\\http\\client.py:1375\u001b[0m, in \u001b[0;36mHTTPConnection.getresponse\u001b[1;34m(self)\u001b[0m\n\u001b[0;32m   1373\u001b[0m \u001b[38;5;28;01mtry\u001b[39;00m:\n\u001b[0;32m   1374\u001b[0m     \u001b[38;5;28;01mtry\u001b[39;00m:\n\u001b[1;32m-> 1375\u001b[0m         \u001b[43mresponse\u001b[49m\u001b[38;5;241;43m.\u001b[39;49m\u001b[43mbegin\u001b[49m\u001b[43m(\u001b[49m\u001b[43m)\u001b[49m\n\u001b[0;32m   1376\u001b[0m     \u001b[38;5;28;01mexcept\u001b[39;00m \u001b[38;5;167;01mConnectionError\u001b[39;00m:\n\u001b[0;32m   1377\u001b[0m         \u001b[38;5;28mself\u001b[39m\u001b[38;5;241m.\u001b[39mclose()\n",
            "File \u001b[1;32mc:\\Users\\sever\\AppData\\Local\\Programs\\Python\\Python310\\lib\\http\\client.py:318\u001b[0m, in \u001b[0;36mHTTPResponse.begin\u001b[1;34m(self)\u001b[0m\n\u001b[0;32m    316\u001b[0m \u001b[38;5;66;03m# read until we get a non-100 response\u001b[39;00m\n\u001b[0;32m    317\u001b[0m \u001b[38;5;28;01mwhile\u001b[39;00m \u001b[38;5;28;01mTrue\u001b[39;00m:\n\u001b[1;32m--> 318\u001b[0m     version, status, reason \u001b[38;5;241m=\u001b[39m \u001b[38;5;28;43mself\u001b[39;49m\u001b[38;5;241;43m.\u001b[39;49m\u001b[43m_read_status\u001b[49m\u001b[43m(\u001b[49m\u001b[43m)\u001b[49m\n\u001b[0;32m    319\u001b[0m     \u001b[38;5;28;01mif\u001b[39;00m status \u001b[38;5;241m!=\u001b[39m CONTINUE:\n\u001b[0;32m    320\u001b[0m         \u001b[38;5;28;01mbreak\u001b[39;00m\n",
            "File \u001b[1;32mc:\\Users\\sever\\AppData\\Local\\Programs\\Python\\Python310\\lib\\http\\client.py:279\u001b[0m, in \u001b[0;36mHTTPResponse._read_status\u001b[1;34m(self)\u001b[0m\n\u001b[0;32m    278\u001b[0m \u001b[38;5;28;01mdef\u001b[39;00m \u001b[38;5;21m_read_status\u001b[39m(\u001b[38;5;28mself\u001b[39m):\n\u001b[1;32m--> 279\u001b[0m     line \u001b[38;5;241m=\u001b[39m \u001b[38;5;28mstr\u001b[39m(\u001b[38;5;28;43mself\u001b[39;49m\u001b[38;5;241;43m.\u001b[39;49m\u001b[43mfp\u001b[49m\u001b[38;5;241;43m.\u001b[39;49m\u001b[43mreadline\u001b[49m\u001b[43m(\u001b[49m\u001b[43m_MAXLINE\u001b[49m\u001b[43m \u001b[49m\u001b[38;5;241;43m+\u001b[39;49m\u001b[43m \u001b[49m\u001b[38;5;241;43m1\u001b[39;49m\u001b[43m)\u001b[49m, \u001b[38;5;124m\"\u001b[39m\u001b[38;5;124miso-8859-1\u001b[39m\u001b[38;5;124m\"\u001b[39m)\n\u001b[0;32m    280\u001b[0m     \u001b[38;5;28;01mif\u001b[39;00m \u001b[38;5;28mlen\u001b[39m(line) \u001b[38;5;241m>\u001b[39m _MAXLINE:\n\u001b[0;32m    281\u001b[0m         \u001b[38;5;28;01mraise\u001b[39;00m LineTooLong(\u001b[38;5;124m\"\u001b[39m\u001b[38;5;124mstatus line\u001b[39m\u001b[38;5;124m\"\u001b[39m)\n",
            "File \u001b[1;32mc:\\Users\\sever\\AppData\\Local\\Programs\\Python\\Python310\\lib\\socket.py:705\u001b[0m, in \u001b[0;36mSocketIO.readinto\u001b[1;34m(self, b)\u001b[0m\n\u001b[0;32m    703\u001b[0m \u001b[38;5;28;01mwhile\u001b[39;00m \u001b[38;5;28;01mTrue\u001b[39;00m:\n\u001b[0;32m    704\u001b[0m     \u001b[38;5;28;01mtry\u001b[39;00m:\n\u001b[1;32m--> 705\u001b[0m         \u001b[38;5;28;01mreturn\u001b[39;00m \u001b[38;5;28;43mself\u001b[39;49m\u001b[38;5;241;43m.\u001b[39;49m\u001b[43m_sock\u001b[49m\u001b[38;5;241;43m.\u001b[39;49m\u001b[43mrecv_into\u001b[49m\u001b[43m(\u001b[49m\u001b[43mb\u001b[49m\u001b[43m)\u001b[49m\n\u001b[0;32m    706\u001b[0m     \u001b[38;5;28;01mexcept\u001b[39;00m timeout:\n\u001b[0;32m    707\u001b[0m         \u001b[38;5;28mself\u001b[39m\u001b[38;5;241m.\u001b[39m_timeout_occurred \u001b[38;5;241m=\u001b[39m \u001b[38;5;28;01mTrue\u001b[39;00m\n",
            "\u001b[1;31mKeyboardInterrupt\u001b[0m: "
          ]
        }
      ],
      "source": [
        "### Scrap the page data\n",
        "#drivers = [main_driver, lookup_driver]\n",
        "from utils.scrapping.linkedin import get_job_data\n",
        "get_job_data(drivers2, job, city, v0erbose=True, bypass=True, limit=1)"
      ]
    },
    {
      "cell_type": "code",
      "execution_count": 2,
      "metadata": {},
      "outputs": [],
      "source": [
        "import pandas as pd\n",
        "pd.set_option('display.max_columns', None)"
      ]
    },
    {
      "cell_type": "code",
      "execution_count": 6,
      "metadata": {},
      "outputs": [],
      "source": [
        "df = pd.read_csv(\"List_jobs_One.csv\")\n",
        "df\n",
        "df.to_excel(\"List_jobs.xlsx\")"
      ]
    },
    {
      "cell_type": "code",
      "execution_count": null,
      "metadata": {},
      "outputs": [],
      "source": []
    }
  ],
  "metadata": {
    "colab": {
      "provenance": []
    },
    "kernelspec": {
      "display_name": "Python 3",
      "name": "python3"
    },
    "language_info": {
      "codemirror_mode": {
        "name": "ipython",
        "version": 3
      },
      "file_extension": ".py",
      "mimetype": "text/x-python",
      "name": "python",
      "nbconvert_exporter": "python",
      "pygments_lexer": "ipython3",
      "version": "3.10.11"
    }
  },
  "nbformat": 4,
  "nbformat_minor": 0
}
