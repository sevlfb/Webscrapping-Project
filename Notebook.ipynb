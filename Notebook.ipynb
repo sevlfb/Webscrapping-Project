{
  "cells": [
    {
      "cell_type": "markdown",
      "metadata": {
        "id": "IvYhiZvcPx9u"
      },
      "source": [
        "# WebScrapping - Compilateur d'odfres de stages / emplois"
      ]
    },
    {
      "cell_type": "markdown",
      "metadata": {
        "id": "deuhHV2vP8Md"
      },
      "source": [
        "## Imports"
      ]
    },
    {
      "cell_type": "code",
      "execution_count": 53,
      "metadata": {},
      "outputs": [
        {
          "name": "stdout",
          "output_type": "stream",
          "text": [
            "The autoreload extension is already loaded. To reload it, use:\n",
            "  %reload_ext autoreload\n"
          ]
        }
      ],
      "source": [
        "%load_ext autoreload\n",
        "%autoreload 2"
      ]
    },
    {
      "cell_type": "code",
      "execution_count": 24,
      "metadata": {},
      "outputs": [],
      "source": [
        "%reload_ext autoreload"
      ]
    },
    {
      "cell_type": "code",
      "execution_count": 3,
      "metadata": {
        "id": "9-n1TRwuPFNY"
      },
      "outputs": [],
      "source": [
        "import bs4\n",
        "from bs4 import BeautifulSoup\n",
        "import selenium\n",
        "import requests\n",
        "from selenium import webdriver\n",
        "from selenium.webdriver.common.keys import Keys\n",
        "from selenium.webdriver.common.by import By\n",
        "import time\n",
        "from selenium.common.exceptions import NoSuchElementException\n",
        "from selenium.webdriver.support.ui import WebDriverWait\n",
        "from selenium.webdriver.support import expected_conditions as EC\n",
        "import pandas as pd\n",
        "import copy\n",
        "import streamlit as st\n",
        "from utils.selenium import element_exists, bypass_captcha, wait_for, hcaptcha_solution\n",
        "from utils.login import login_google, login_indeed\n",
        "from utils.threading import init_drivers\n",
        "\n",
        "\n"
      ]
    },
    {
      "cell_type": "markdown",
      "metadata": {},
      "source": [
        "# code qui marche"
      ]
    },
    {
      "cell_type": "code",
      "execution_count": 81,
      "metadata": {},
      "outputs": [
        {
          "name": "stdout",
          "output_type": "stream",
          "text": [
            "len_driver 1 [[]]\n",
            "0\n",
            "range: 1\n",
            "<ThreadWithReturnValue(Thread-195 (setup_linkedin), initial)>\n",
            "Creating driver\n",
            "return None\n",
            "<selenium.webdriver.chrome.webdriver.WebDriver (session=\"8e83c75014fe9d3809e119ac55cf43d1\")>\n",
            "len_driver 1 [[]]\n",
            "0\n",
            "range: 3\n",
            "<ThreadWithReturnValue(Thread-198 (login_glassdoor), initial)>\n",
            "Creating driver\n",
            "return None\n",
            "<ThreadWithReturnValue(Thread-199 (login_glassdoor), initial)>\n",
            "Creating driver\n",
            "return None\n",
            "<ThreadWithReturnValue(Thread-200 (login_glassdoor), initial)>\n",
            "Creating driver\n",
            "return None\n",
            "<selenium.webdriver.chrome.webdriver.WebDriver (session=\"76c8b032fd456a6e2b1c3e1226c4376a\")>\n",
            "<selenium.webdriver.chrome.webdriver.WebDriver (session=\"b876f3744a3002e2d45e18e37491f723\")>\n",
            "<selenium.webdriver.chrome.webdriver.WebDriver (session=\"42adffb90b27cd75297b61b3533047ef\")>\n",
            "len_driver 1 [[]]\n",
            "0\n",
            "range: 1\n",
            "<ThreadWithReturnValue(Thread-207 (create_driver), initial)>\n",
            "return None\n",
            "<selenium.webdriver.chrome.webdriver.WebDriver (session=\"57bfccae9231cfa30df71d8437f65460\")>\n",
            "[[<selenium.webdriver.chrome.webdriver.WebDriver (session=\"8e83c75014fe9d3809e119ac55cf43d1\")>], [<selenium.webdriver.chrome.webdriver.WebDriver (session=\"76c8b032fd456a6e2b1c3e1226c4376a\")>, <selenium.webdriver.chrome.webdriver.WebDriver (session=\"b876f3744a3002e2d45e18e37491f723\")>, <selenium.webdriver.chrome.webdriver.WebDriver (session=\"42adffb90b27cd75297b61b3533047ef\")>], [<selenium.webdriver.chrome.webdriver.WebDriver (session=\"57bfccae9231cfa30df71d8437f65460\")>]]\n"
          ]
        }
      ],
      "source": [
        "from utils.threading import init_drivers\n",
        "from utils.processing.linkedin import setup_linkedin\n",
        "from utils.login import login_glassdoor,login_linkedin\n",
        "from utils.selenium import create_driver\n",
        "l_email = \"scrapperselenium@gmail.com\"\n",
        "l_password= \"Password123!*\"\n",
        "\n",
        "g_email = \"severin.lefebure@edu.devinci.fr\"\n",
        "g_password = \"jesuisungenie\"\n",
        "job = \"Data Analyst\"\n",
        "city = \"Paris\"\n",
        "#5 drivers\n",
        "#do threads\n",
        "l_drivers = init_drivers(1,func=setup_linkedin, args=[None, l_email, l_password, False, False])\n",
        "g_drivers = init_drivers(3,func=login_glassdoor, args=[None, g_email, g_password, False, False])\n",
        "useless_drivers = init_drivers(1, func=create_driver, args=[False])\n",
        "drivers = l_drivers+g_drivers+useless_drivers\n",
        "# l_drivers = 0\n",
        "# g_drivers = 1,2,3\n",
        "# e_drivers = 4 \n",
        "print(drivers)"
      ]
    },
    {
      "cell_type": "code",
      "execution_count": 52,
      "metadata": {},
      "outputs": [
        {
          "name": "stdout",
          "output_type": "stream",
          "text": [
            "ok\n",
            "filter: Classer par\n",
            "advanced-filter-sortBy-DD|&f_SBDD\n",
            "advanced-filter-sortBy-R|&f_SBR\n",
            "\n",
            "ok\n",
            "filter: Date de publication\n",
            "advanced-filter-timePostedRange-|&f_TPR\n",
            "advanced-filter-timePostedRange-r2592000|&f_TPR\n",
            "advanced-filter-timePostedRange-r604800|&f_TPR\n",
            "advanced-filter-timePostedRange-r86400|&f_TPR\n",
            "\n",
            "ok\n",
            "filter: Niveau d’expérience\n",
            "advanced-filter-experience-1|&f_E\n",
            "advanced-filter-experience-2|&f_E\n",
            "advanced-filter-experience-3|&f_E\n",
            "advanced-filter-experience-4|&f_E\n",
            "advanced-filter-experience-5|&f_E\n",
            "advanced-filter-experience-6|&f_E\n",
            "\n",
            "ok\n",
            "filter: Entreprise\n",
            "advanced-filter-company-11084085|&f_C\n",
            "advanced-filter-company-1258653|&f_C\n",
            "advanced-filter-company-12627290|&f_C\n",
            "advanced-filter-company-93089723|&f_C\n",
            "advanced-filter-company-2536626|&f_C\n",
            "advanced-filter-company-9485372|&f_C\n",
            "advanced-filter-company-66719|&f_C\n",
            "advanced-filter-company-3896|&f_C\n",
            "advanced-filter-company-68841835|&f_C\n",
            "advanced-filter-company-1691|&f_C\n",
            "advanced-filter-company-498995|&f_C\n",
            "advanced-filter-company-2046490|&f_C\n",
            "advanced-filter-company-28542|&f_C\n",
            "advanced-filter-company-97599|&f_C\n",
            "advanced-filter-company-1951|&f_C\n",
            "\n",
            "ok\n",
            "filter: Type de contrat\n",
            "advanced-filter-jobType-F|&f_JTF\n",
            "advanced-filter-jobType-P|&f_JTP\n",
            "advanced-filter-jobType-C|&f_JTC\n",
            "advanced-filter-jobType-T|&f_JTT\n",
            "advanced-filter-jobType-I|&f_JTI\n",
            "advanced-filter-jobType-O|&f_JTO\n",
            "\n",
            "ok\n",
            "filter: Remote\n",
            "advanced-filter-workplaceType-1|&f_WT\n",
            "advanced-filter-workplaceType-3|&f_WT\n",
            "advanced-filter-workplaceType-2|&f_WT\n",
            "\n",
            "ok\n",
            "filter: Collections d’offres d’emploi\n",
            "advanced-filter-jobCollections-(0,lisystem,green-jobs)|&f_JC\n",
            "\n",
            "ok\n",
            "filter: Candidature simplifiée\n",
            "no filter\n",
            "ok\n",
            "filter: Lieu\n",
            "advanced-filter-populatedPlace-101240143|&f_PP\n",
            "advanced-filter-populatedPlace-103815258|&f_PP\n",
            "advanced-filter-populatedPlace-104787182|&f_PP\n",
            "advanced-filter-populatedPlace-105073465|&f_PP\n",
            "advanced-filter-populatedPlace-100323840|&f_PP\n",
            "advanced-filter-populatedPlace-102565100|&f_PP\n",
            "advanced-filter-populatedPlace-102924436|&f_PP\n",
            "advanced-filter-populatedPlace-106218810|&f_PP\n",
            "advanced-filter-populatedPlace-107129954|&f_PP\n",
            "advanced-filter-populatedPlace-108051010|&f_PP\n",
            "advanced-filter-populatedPlace-100421288|&f_PP\n",
            "\n",
            "ok\n",
            "filter: Secteur\n",
            "advanced-filter-industry-96|&f_I\n",
            "advanced-filter-industry-4|&f_I\n",
            "advanced-filter-industry-137|&f_I\n",
            "advanced-filter-industry-41|&f_I\n",
            "advanced-filter-industry-43|&f_I\n",
            "advanced-filter-industry-42|&f_I\n",
            "advanced-filter-industry-104|&f_I\n",
            "advanced-filter-industry-6|&f_I\n",
            "advanced-filter-industry-70|&f_I\n",
            "advanced-filter-industry-52|&f_I\n",
            "advanced-filter-industry-27|&f_I\n",
            "advanced-filter-industry-15|&f_I\n",
            "advanced-filter-industry-48|&f_I\n",
            "\n",
            "ok\n",
            "filter: Fonction\n",
            "advanced-filter-function-it|&f_F\n",
            "advanced-filter-function-anls|&f_F\n",
            "advanced-filter-function-othr|&f_F\n",
            "advanced-filter-function-eng|&f_F\n",
            "advanced-filter-function-rsch|&f_F\n",
            "advanced-filter-function-cnsl|&f_F\n",
            "advanced-filter-function-fin|&f_F\n",
            "advanced-filter-function-sale|&f_F\n",
            "advanced-filter-function-mrkt|&f_F\n",
            "advanced-filter-function-bd|&f_F\n",
            "\n",
            "ok\n",
            "filter: Titre de l’offre d’emploi\n",
            "advanced-filter-title-340|&f_T\n",
            "advanced-filter-title-843|&f_T\n",
            "advanced-filter-title-2463|&f_T\n",
            "advanced-filter-title-733|&f_T\n",
            "advanced-filter-title-6358|&f_T\n",
            "advanced-filter-title-1547|&f_T\n",
            "advanced-filter-title-1577|&f_T\n",
            "advanced-filter-title-5775|&f_T\n",
            "advanced-filter-title-13|&f_T\n",
            "advanced-filter-title-8227|&f_T\n",
            "advanced-filter-title-29|&f_T\n",
            "advanced-filter-title-2336|&f_T\n",
            "advanced-filter-title-3506|&f_T\n",
            "\n",
            "ok\n",
            "filter: Moins de 10 candidatures\n",
            "no filter\n",
            "ok\n",
            "filter: Dans votre réseau\n",
            "no filter\n",
            "ok\n",
            "filter: Employeur donnant une chance égale à tous\n",
            "no filter\n",
            "ok\n",
            "filter: Engagements\n",
            "advanced-filter-commitments-1|&f_C\n",
            "advanced-filter-commitments-2|&f_C\n",
            "advanced-filter-commitments-4|&f_C\n",
            "advanced-filter-commitments-3|&f_C\n",
            "advanced-filter-commitments-5|&f_C\n",
            "\n"
          ]
        }
      ],
      "source": [
        "from selenium.webdriver.common.action_chains import ActionChains\n",
        "\n",
        "dico_filter = {}\n",
        "\n",
        "filter_panel = drivers[0][0].find_element(By.CSS_SELECTOR, '[aria-labelledby=\"reusable-search-advanced-filters-right-panel\"]')\n",
        "filters = filter_panel.find_elements(By.CLASS_NAME, \"search-reusables__secondary-filters-filter\")#\"search-reusables__filter-value-item\")\n",
        "for filter in filters:\n",
        "    hover = ActionChains(drivers[0][0]).move_to_element(filter)\n",
        "    hover.perform()\n",
        "    print(\"ok\")\n",
        "    filter_name = filter.find_element(By.TAG_NAME, \"h3\").text\n",
        "    print(\"filter:\", filter_name)\n",
        "    try:\n",
        "        filter_info = filter.find_element(By.CLASS_NAME, \"search-reusables__secondary-filters-values\")\n",
        "        filter_text = filter_info.text.split(\"\\n\")[::2]\n",
        "        filters_tag = filter_info.find_elements(By.TAG_NAME, \"input\")\n",
        "        tag_list = []\n",
        "        for tag in filters_tag:\n",
        "            tag_id = tag.get_attribute(\"id\")\n",
        "            print(tag_id, end=\"|\")\n",
        "            tag_id = tag_id.replace(\"advanced-filter-\",\"\").replace(\"-\",\"=\")\n",
        "            tag_list.append(tag_id)\n",
        "            capital_letters = tag_id[0].upper() + \"\".join([letter for letter in tag_id[1:] if letter.isupper()])\n",
        "            REAL_FILTER = f\"&f_{capital_letters}\"\n",
        "            print(REAL_FILTER)\n",
        "            \n",
        "        dico_filter[filter_name] = tag_list\n",
        "        print()\n",
        "        #print(filter_text, tag_list)\n",
        "    except:\n",
        "        dico_filter[filter_name] = []\n",
        "        print(\"no filter\")"
      ]
    },
    {
      "cell_type": "code",
      "execution_count": 82,
      "metadata": {},
      "outputs": [
        {
          "data": {
            "text/plain": [
              "[<selenium.webdriver.chrome.webdriver.WebDriver (session=\"8e83c75014fe9d3809e119ac55cf43d1\")>,\n",
              " <selenium.webdriver.chrome.webdriver.WebDriver (session=\"76c8b032fd456a6e2b1c3e1226c4376a\")>,\n",
              " <selenium.webdriver.chrome.webdriver.WebDriver (session=\"b876f3744a3002e2d45e18e37491f723\")>,\n",
              " <selenium.webdriver.chrome.webdriver.WebDriver (session=\"42adffb90b27cd75297b61b3533047ef\")>,\n",
              " <selenium.webdriver.chrome.webdriver.WebDriver (session=\"57bfccae9231cfa30df71d8437f65460\")>]"
            ]
          },
          "execution_count": 82,
          "metadata": {},
          "output_type": "execute_result"
        }
      ],
      "source": [
        "drivers2 = []\n",
        "for driverss in drivers:\n",
        "    for driver in driverss:\n",
        "        drivers2.append(driver)\n",
        "drivers2"
      ]
    },
    {
      "cell_type": "code",
      "execution_count": 4,
      "metadata": {},
      "outputs": [
        {
          "ename": "AttributeError",
          "evalue": "'NoneType' object has no attribute 'quit'",
          "output_type": "error",
          "traceback": [
            "\u001b[1;31m---------------------------------------------------------------------------\u001b[0m",
            "\u001b[1;31mAttributeError\u001b[0m                            Traceback (most recent call last)",
            "Cell \u001b[1;32mIn[4], line 3\u001b[0m\n\u001b[0;32m      1\u001b[0m \u001b[38;5;28;01mfor\u001b[39;00m driver_list \u001b[38;5;129;01min\u001b[39;00m drivers:\n\u001b[0;32m      2\u001b[0m     \u001b[38;5;28;01mfor\u001b[39;00m driver \u001b[38;5;129;01min\u001b[39;00m driver_list:\n\u001b[1;32m----> 3\u001b[0m         \u001b[43mdriver\u001b[49m\u001b[38;5;241;43m.\u001b[39;49m\u001b[43mquit\u001b[49m()\n",
            "\u001b[1;31mAttributeError\u001b[0m: 'NoneType' object has no attribute 'quit'"
          ]
        }
      ],
      "source": [
        "for driver_list in drivers2:\n",
        "    for driver in driver_list:\n",
        "        driver.quit()"
      ]
    },
    {
      "cell_type": "code",
      "execution_count": 98,
      "metadata": {},
      "outputs": [
        {
          "name": "stdout",
          "output_type": "stream",
          "text": [
            "get job data\n",
            "4\n",
            "**Time of pre-loop Bypass :**  0.1037743091583252\n",
            "New_element\n",
            "['https:', '', 'www.linkedin.com', 'jobs', 'view', '3795100435']\n",
            "scrap job info\n",
            "company: Tata Consultancy Services\n",
            "get company info\n",
            "1\n",
            "scrap company info\n",
            "scrap reviews_info\n",
            "----> Time of eco_score 2.6056394577026367\n",
            "scores\n",
            "[('Diversité et inclusion', '4,0'), ('Culture et valeurs', '3,9'), ('Équilibre travail/vie privée', '3,8'), ('Opportunités de carrière', '3,7'), ('Équipe dirigeante', '3,3'), ('Rémunération et avantages', '3,1')] [('5 étoiles', '31 %'), ('4 étoiles', '38 %'), ('3 étoiles', '23 %'), ('2 étoiles', '5 %'), ('1 étoile', '3 %')]\n",
            "-------> time of append : 6.78360652923584\n",
            "1 24 [['DATA TECH LEAD', '3795100435', 'Tata Consultancy Services', [('job', 'Sur site Temps plein Confirmé'), ('company', '+ de 10 000 employés · Services et conseil en informatique'), ('checklist', 'Compétences : Python (langage de programmation), Scala et 1 en plus'), ('verified', 'Consultez les vérifications liées à cette offre d’emploi.\\nConsultez les vérifications liées à cette offre d’emploi.\\nTout afficher'), ('lightbulb', 'Découvrez comment vous vous positionnez par rapport à 21 candidats. Essai Premium pour 0 EUR')], {'Ville': 'Ville de Paris', 'Région': 'Île-de-France', 'Pays': 'France'}, 0, 'Tata Consultancy Services', ['www.tcs.com/', 'Mumbai, Inde', 'Plus de 10 000 employés', '39 lieux', 'Type : Entreprise cotée en bourse (TCSN)', 'Fondée en 1968', 'Revenu : Plus de 10 milliards de dollars US', 'Développement de logiciels'], 'Consultez les vérifications liées à cette offre d’emploi.\\nConsultez les vérifications liées à cette offre d’emploi.\\nTout afficher', 'Compétences : Python (langage de programmation), Scala et 1 en plus', 'Sur site Temps plein Confirmé', 'Découvrez comment vous vous positionnez par rapport à 21 candidats. Essai Premium pour 0 EUR', '+ de 10 000 employés · Services et conseil en informatique', '3,3', '4,0', '3,1', '3,8', '3,9', '3,7', '38 %', '23 %', '31 %', '5 %', '3 %']]\n",
            "\n"
          ]
        },
        {
          "data": {
            "text/html": [
              "<div>\n",
              "<style scoped>\n",
              "    .dataframe tbody tr th:only-of-type {\n",
              "        vertical-align: middle;\n",
              "    }\n",
              "\n",
              "    .dataframe tbody tr th {\n",
              "        vertical-align: top;\n",
              "    }\n",
              "\n",
              "    .dataframe thead th {\n",
              "        text-align: right;\n",
              "    }\n",
              "</style>\n",
              "<table border=\"1\" class=\"dataframe\">\n",
              "  <thead>\n",
              "    <tr style=\"text-align: right;\">\n",
              "      <th></th>\n",
              "      <th>Job Title</th>\n",
              "      <th>Job ID</th>\n",
              "      <th>Company Name</th>\n",
              "      <th>Job Tags</th>\n",
              "      <th>Job Loc</th>\n",
              "      <th>Ecoscore</th>\n",
              "      <th>Company name</th>\n",
              "      <th>Company infos</th>\n",
              "      <th>verified</th>\n",
              "      <th>checklist</th>\n",
              "      <th>...</th>\n",
              "      <th>Diversité et inclusion</th>\n",
              "      <th>Rémunération et avantages</th>\n",
              "      <th>Équilibre travail/vie privée</th>\n",
              "      <th>Culture et valeurs</th>\n",
              "      <th>Opportunités de carrière</th>\n",
              "      <th>4 étoiles</th>\n",
              "      <th>3 étoiles</th>\n",
              "      <th>5 étoiles</th>\n",
              "      <th>2 étoiles</th>\n",
              "      <th>1 étoile</th>\n",
              "    </tr>\n",
              "  </thead>\n",
              "  <tbody>\n",
              "    <tr>\n",
              "      <th>0</th>\n",
              "      <td>DATA TECH LEAD</td>\n",
              "      <td>3795100435</td>\n",
              "      <td>Tata Consultancy Services</td>\n",
              "      <td>[(job, Sur site Temps plein Confirmé), (compan...</td>\n",
              "      <td>{'Ville': 'Ville de Paris', 'Région': 'Île-de-...</td>\n",
              "      <td>0</td>\n",
              "      <td>Tata Consultancy Services</td>\n",
              "      <td>[www.tcs.com/, Mumbai, Inde, Plus de 10 000 em...</td>\n",
              "      <td>Consultez les vérifications liées à cette offr...</td>\n",
              "      <td>Compétences : Python (langage de programmation...</td>\n",
              "      <td>...</td>\n",
              "      <td>4,0</td>\n",
              "      <td>3,1</td>\n",
              "      <td>3,8</td>\n",
              "      <td>3,9</td>\n",
              "      <td>3,7</td>\n",
              "      <td>38 %</td>\n",
              "      <td>23 %</td>\n",
              "      <td>31 %</td>\n",
              "      <td>5 %</td>\n",
              "      <td>3 %</td>\n",
              "    </tr>\n",
              "  </tbody>\n",
              "</table>\n",
              "<p>1 rows × 24 columns</p>\n",
              "</div>"
            ],
            "text/plain": [
              "        Job Title      Job ID               Company Name   \n",
              "0  DATA TECH LEAD  3795100435  Tata Consultancy Services  \\\n",
              "\n",
              "                                            Job Tags   \n",
              "0  [(job, Sur site Temps plein Confirmé), (compan...  \\\n",
              "\n",
              "                                             Job Loc  Ecoscore   \n",
              "0  {'Ville': 'Ville de Paris', 'Région': 'Île-de-...         0  \\\n",
              "\n",
              "                Company name   \n",
              "0  Tata Consultancy Services  \\\n",
              "\n",
              "                                       Company infos   \n",
              "0  [www.tcs.com/, Mumbai, Inde, Plus de 10 000 em...  \\\n",
              "\n",
              "                                            verified   \n",
              "0  Consultez les vérifications liées à cette offr...  \\\n",
              "\n",
              "                                           checklist  ...   \n",
              "0  Compétences : Python (langage de programmation...  ...  \\\n",
              "\n",
              "  Diversité et inclusion Rémunération et avantages   \n",
              "0                    4,0                       3,1  \\\n",
              "\n",
              "  Équilibre travail/vie privée Culture et valeurs Opportunités de carrière   \n",
              "0                          3,8                3,9                      3,7  \\\n",
              "\n",
              "  4 étoiles 3 étoiles 5 étoiles 2 étoiles 1 étoile  \n",
              "0      38 %      23 %      31 %       5 %      3 %  \n",
              "\n",
              "[1 rows x 24 columns]"
            ]
          },
          "execution_count": 98,
          "metadata": {},
          "output_type": "execute_result"
        }
      ],
      "source": [
        "### Scrap the page data\n",
        "#drivers = [main_driver, lookup_driver]\n",
        "from utils.scrapping.linkedin import get_job_data\n",
        "get_job_data(drivers2, job, city, verbose=True, bypass=True, limit=1)"
      ]
    },
    {
      "cell_type": "code",
      "execution_count": 2,
      "metadata": {},
      "outputs": [],
      "source": [
        "import pandas as pd\n",
        "pd.set_option('display.max_columns', None)"
      ]
    },
    {
      "cell_type": "code",
      "execution_count": 6,
      "metadata": {},
      "outputs": [],
      "source": [
        "df = pd.read_csv(\"List_jobs_One.csv\")\n",
        "df\n",
        "df.to_excel(\"List_jobs.xlsx\")"
      ]
    },
    {
      "cell_type": "code",
      "execution_count": null,
      "metadata": {},
      "outputs": [],
      "source": []
    }
  ],
  "metadata": {
    "colab": {
      "provenance": []
    },
    "kernelspec": {
      "display_name": "Python 3",
      "name": "python3"
    },
    "language_info": {
      "codemirror_mode": {
        "name": "ipython",
        "version": 3
      },
      "file_extension": ".py",
      "mimetype": "text/x-python",
      "name": "python",
      "nbconvert_exporter": "python",
      "pygments_lexer": "ipython3",
      "version": "3.10.11"
    }
  },
  "nbformat": 4,
  "nbformat_minor": 0
}
