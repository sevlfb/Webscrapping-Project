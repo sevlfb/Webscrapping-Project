{
 "cells": [
  {
   "cell_type": "code",
   "execution_count": 2,
   "metadata": {},
   "outputs": [],
   "source": [
    "from selenium.webdriver import Chrome\n",
    "from utils.login import login_glassdoor\n",
    "from selenium.webdriver.common.by import By\n",
    "from selenium.webdriver.common.action_chains import ActionChains"
   ]
  },
  {
   "cell_type": "code",
   "execution_count": 14,
   "metadata": {},
   "outputs": [
    {
     "data": {
      "text/plain": [
       "<selenium.webdriver.chrome.webdriver.WebDriver (session=\"d637f8675b98843609960a832ccaf59e\")>"
      ]
     },
     "execution_count": 14,
     "metadata": {},
     "output_type": "execute_result"
    }
   ],
   "source": [
    "driver = Chrome()\n",
    "driver2 = Chrome()\n",
    "driver.get(\"https://www.glassdoor.fr/Avis/index.htm\")\n",
    "login_glassdoor(driver, \"severin.lefebure@edu.devinci.fr\", \"jesuisungenie\")"
   ]
  },
  {
   "cell_type": "code",
   "execution_count": 15,
   "metadata": {},
   "outputs": [
    {
     "data": {
      "text/plain": [
       "<selenium.webdriver.chrome.webdriver.WebDriver (session=\"1bf1387752932bec735923f541e375ea\")>"
      ]
     },
     "execution_count": 15,
     "metadata": {},
     "output_type": "execute_result"
    }
   ],
   "source": [
    "login_glassdoor(driver2, \"severin.lefebure@edu.devinci.fr\", \"jesuisungenie\")"
   ]
  },
  {
   "cell_type": "code",
   "execution_count": 16,
   "metadata": {},
   "outputs": [],
   "source": [
    "driver.implicitly_wait(0.01)\n",
    "driver2.implicitly_wait(0.01)"
   ]
  },
  {
   "cell_type": "code",
   "execution_count": 18,
   "metadata": {},
   "outputs": [
    {
     "name": "stdout",
     "output_type": "stream",
     "text": [
      "McDonald's\n",
      "3,5\n",
      "Amazon\n",
      "3,7\n",
      "Accenture\n",
      "3,8\n",
      "Deloitte\n",
      "4,0\n",
      "Capgemini\n",
      "3,6\n",
      "EY\n",
      "3,8\n",
      "PwC\n",
      "3,9\n",
      "KPMG\n",
      "3,8\n",
      "IBM\n",
      "4,1\n",
      "BNP Paribas\n",
      "3,8\n",
      "McDonald's\n",
      "https://www.glassdoor.fr/Avis/McDonald-s-Avis-E432.htm\n",
      "('5,0', '14 janv. 2024', 'Assistant Manager (McDonalds)', [('Recommander', 'None'), ('Approbation du PDG', 'None'), ('Perspective commerciale', 'None')], 'Bien payer et très bien organisé', 'Les horaires parfois sont moins bien')\n",
      "('2,0', '11 déc. 2023', 'Employé anonyme', [('Recommander', 'None'), ('Approbation du PDG', 'None'), ('Perspective commerciale', 'None')], \"Flexibilité des horaires : McDonald's offre souvent des horaires flexibles, ce qui peut convenir aux étudiants, aux travailleurs à temps partiel ou à ceux qui ont des engagements personnels. Opportunités d'avancement : McDonald's encourage souvent la promotion interne, offrant aux employés la possibilité d'avancer dans leur carrière au sein de l'entreprise. Expérience professionnelle : Travailler au McDonald's peut constituer une première expérience professionnelle pour de nombreux jeunes, offrant des compétences de base en service à la clientèle, en gestion du temps et en travail d'équipe. Avantages sociaux : Certains employés peuvent bénéficier d'avantages sociaux tels que des repas gratuits ou à prix réduit, des assurances, et parfois des programmes de formation.\", \"Conditions de travail exigeantes : Le travail dans un restaurant rapide peut être exigeant physiquement et mentalement, avec des périodes de travail intensives, notamment pendant les heures de pointe. Salaire souvent minimum : Les salaires dans l'industrie de la restauration rapide sont parfois proches du salaire minimum, ce qui peut rendre difficile le maintien d'un niveau de vie décent. Pression du service à la clientèle : Les employés sont souvent confrontés à des clients exigeants et à des situations stressantes, ce qui peut être difficile à gérer. Rotation des tâches : Les employés peuvent être amenés à effectuer différentes tâches, ce qui peut être fatigant et répétitif.\")\n",
      "('3,0', '18 sept. 2023', \"Équipier Polyvalent Mac Donald's\", [('Recommander', 'good'), ('Approbation du PDG', 'neutral'), ('Perspective commerciale', 'neutral')], \"Acquisition de compétences diverses : Étant polyvalent, vous apprendrez plusieurs fonctions, que ce soit en cuisine, au comptoir, à la caisse ou à la gestion des commandes drive. Adaptabilité : Travailler dans différents rôles renforce l'adaptabilité, ce qui est une compétence précieuse dans de nombreux emplois et situations de la vie. Opportunités d'avancement : Avoir une compréhension de plusieurs postes peut augmenter vos chances de promotion, car vous avez une vision plus globale de l'opération du restaurant. Travail d'équipe : La polyvalence vous permet de travailler en étroite collaboration avec différents membres de l'équipe, renforçant ainsi vos compétences en matière de travail d'équipe. Sécurité de l'emploi : Un employé capable d'assumer plusieurs fonctions est souvent plus précieux pour l'entreprise et peut être moins susceptible d'être licencié. Variété : Changer régulièrement de poste peut rendre le travail plus intéressant et moins monotone.\", \"Pression : La nécessité de maîtriser plusieurs fonctions peut être stressante, surtout pendant les heures de pointe. Formation continue : Avec la mise à jour des procédures ou l'introduction de nouveaux produits, la formation peut être constante. Exigences physiques : Selon les postes que vous occupez, le travail peut être physiquement exigeant, par exemple en restant debout pendant de longues périodes ou en soulevant des objets lourds. Salaire : Malgré la polyvalence, le salaire de départ chez McDonald's peut ne pas refléter la diversité des compétences acquises. Horaire irrégulier : En tant qu'équipier polyvalent, vos heures de travail et vos fonctions peuvent varier considérablement d'une semaine à l'autre. Difficulté de spécialisation : Être polyvalent signifie que vous pourriez ne pas devenir un expert dans une fonction spécifique, car votre attention est divisée entre plusieurs tâches.\")\n",
      "('1,0', '6 nov. 2023', 'Employé anonyme', [('Recommander', 'None'), ('Approbation du PDG', 'None'), ('Perspective commerciale', 'None')], \"Expérience professionnelle : Travailler chez McDonald's peut vous offrir une expérience précieuse dans le domaine de la restauration rapide. Vous pouvez acquérir des compétences en service à la clientèle, en gestion du temps et en travail d'équipe. Flexibilité des horaires : McDonald's propose souvent des horaires flexibles, ce qui peut convenir à des étudiants ou à ceux qui ont besoin d'un emploi à temps partiel. Opportunités de croissance : McDonald's encourage la promotion interne. Si vous démarrez en tant que membre d'équipe, il y a la possibilité de progresser vers des postes de supervision ou de gestion. Avantages sociaux : En tant qu'employé, vous pouvez avoir accès à certains avantages sociaux tels que l'assurance maladie, les rabais sur la nourriture, et la formation en cours d'emploi.\", \"Pression et stress : Travailler dans la restauration rapide peut être stressant, surtout pendant les heures de pointe. Les clients peuvent être exigeants, et il peut y avoir une pression pour servir rapidement. Salaire : Les salaires dans l'industrie de la restauration rapide ne sont généralement pas élevés, en particulier pour les employés débutants. Cependant, ils peuvent varier en fonction de la localisation géographique. Travail physique : Le travail chez McDonald's peut être exigeant physiquement, avec beaucoup de temps debout, de mouvements répétitifs, et de tâches de nettoyage. Rotation des horaires : Vous pourriez avoir des horaires irréguliers, y compris les soirs, les week-ends et les jours fériés, ce qui peut affecter votre vie personnelle.\")\n",
      "('5,0', '7 janv. 2024', 'employé polyvalente de restauration', [('Recommander', 'good'), ('Approbation du PDG', 'neutral'), ('Perspective commerciale', 'neutral')], \"Assez facile d'obtenir un premier emploi si on est motivé bien sûr. L'équipe est géniale, toujours prêt à vous aider en toute circonstance.\", \"La clientèle peut être un peu rude parfois mais les managers sont là pour vous soutenir et gérer les conflits. Hormis ça, les horaires de close (minuit ou 1h du matin) mais c'est le concept de la marque, il faut s'y préparer.\")\n",
      "('2,0', '14 janv. 2024', 'Préparateur De Commande', [('Recommander', 'bad'), ('Approbation du PDG', 'bad'), ('Perspective commerciale', 'bad')], 'Emploi du temps variable, bonne ambiance', 'Sale, Clients irrespectueux et méchants')\n",
      "('5,0', '13 janv. 2024', 'Assistant Manager (McDonalds)', [('Recommander', 'good'), ('Approbation du PDG', 'None'), ('Perspective commerciale', 'good')], 'Des heures flexibles, deux jours de repos, RTT, repas gratuit', 'Le salaire est bas par rapport au travail')\n",
      "('3,0', '14 janv. 2024', 'Fast Food Worker', [('Recommander', 'good'), ('Approbation du PDG', 'None'), ('Perspective commerciale', 'neutral')], 'Repas pris en charge Mutuelle Tâches diversifiées Responsabilisation', 'Salaire Horaires Pénibilité Clientèle de plus en plus agressive')\n",
      "('4,0', '11 janv. 2024', 'Employé anonyme', [('Recommander', 'good'), ('Approbation du PDG', 'good'), ('Perspective commerciale', 'neutral')], \"Super franchement, esprit d'équipe tip top\", \"Il y en a pas vraiment à part l'odeur de la friture et du gras toute la journée\")\n",
      "('3,0', '10 janv. 2024', 'Employé anonyme', [('Recommander', 'None'), ('Approbation du PDG', 'None'), ('Perspective commerciale', 'None')], \"Horaires flexibles/ arrangeante/Esprit d'équipe/jours de repos consécutifs/ inclusifs\", 'Pause repas 40 min / pression lors des rush/ pas de formation sur la gestion des clients compliqué ou comment géré une situation conflictuelle')\n",
      "Amazon\n",
      "https://www.glassdoor.fr/Avis/Amazon-Avis-E6036.htm\n",
      "('5,0', '11 janv. 2024', 'Agent de piste aéroportuaire', [('Recommander', 'good'), ('Approbation du PDG', 'neutral'), ('Perspective commerciale', 'neutral')], 'Très Bonne rémunération et horaires flexibles', 'Très physique mais c’est un mal pour un bien .')\n",
      "('3,0', '24 déc. 2023', 'Senior Vendor Manager', [('Recommander', 'bad'), ('Approbation du PDG', 'neutral'), ('Perspective commerciale', 'good')], \"-Package compétitif, lorsque l'on tient compte des actions (dont on devient propriétaire après plusieurs années)\\n-Locaux rénovés en 2020 et bien équipés, mais assez excentrés à Clichy sur la ligne 13 (fortement encombrée)\\n-Autonomie assez complète dans l'organisation individuelle du travail\\n-Une expérience formatrice, notamment sur les compétences analytiques et liées à la data\\n-Bons profils, mais le recrutement devient de plus en plus difficile en France, notamment avec une image de marque qui se dégrade\\n-Equipe jeune et soudée avec une bonne ambiance et des sorties fréquentes\", \"-Entreprise tentaculaire : organigramme illisible, responsabilités fragmentées et redondantes, fonctionnement en silo.\\n-Contenu du job : beaucoup de temps alloué à l'analyse, peu à la prise de décision et à l'action. De nombreuses équipes, en particulier les Product Managers, passent 100% de leur temps à écrire des docs qui ne débouchent sur rien de concret.\\n-Fonctionnement centralisé : aucune place laissée à l'initiative ou à l'innovation en local (marché FR insignifiant après US, UK et DE).\\n-Approche deshumanisée des RH : pas d'interlocuteur sur place, il faut faire un Ticket pour toute question, aucune formation sur site, les nouveaux arrivants doivent ingérer des dizaines d'heures de elearning. \\n-Equilibre vie pro/vie perso problématique : nombreux burn-out chez les jeunes collaborateurs, qui ont plus de mal à fixer des limites à une charge de travail qui peut leur paraître illimitée.\\n-Nouvelle politique globale d'Amazon : gel quasi-total des mobilités internes depuis plus d'un an et retour au bureau 3 jours par semaine (controlé par badgeadge), qui a entraîné ma démission.\")\n",
      "('1,0', '10 janv. 2024', 'Agent exploitation logistique', [('Recommander', 'bad'), ('Approbation du PDG', 'bad'), ('Perspective commerciale', 'bad')], 'Aucun, un code de réduction qui ne fonctionne sur absolument casiment rien du site, des primes éligible mais qu’avec deux ans d’ancienneté bref que les yeux pour pleurer quoi ..', 'Management 0 Grosse pression Aucun sentiment de valorisation du travail Oublier votre santé')\n",
      "('2,0', '12 janv. 2024', 'agent de tri', [('Recommander', 'bad'), ('Approbation du PDG', 'None'), ('Perspective commerciale', 'None')], 'Boissons chaudes gratuite, salle de repos grande', \"Pas de temps de repos, port de charge lourde jusqu'à 15kg\")\n",
      "('4,0', '9 janv. 2024', 'Préparateur De Commande', [('Recommander', 'None'), ('Approbation du PDG', 'None'), ('Perspective commerciale', 'None')], '- Salaire un peu plus élevé que le smic - Bonne ambiance', '- Travail assez physique avec risque de blessure si on ne respecte pas les règles de sécurité')\n",
      "('3,0', '11 janv. 2024', 'Brand Specialist', [('Recommander', 'good'), ('Approbation du PDG', 'neutral'), ('Perspective commerciale', 'good')], 'Personnes sympas et jeunes Flexibilité sur les horaires', 'Charge de travail trop importante')\n",
      "('2,0', '10 janv. 2024', 'Buyer', [('Recommander', 'None'), ('Approbation du PDG', 'None'), ('Perspective commerciale', 'None')], 'Ok pour commencer dans les achats', 'Peu de reconnaissance de managers')\n",
      "('5,0', '6 janv. 2024', 'Area Manager II', [('Recommander', 'good'), ('Approbation du PDG', 'good'), ('Perspective commerciale', 'good')], 'Liberté dans ta gestion du travail et rapidité des process', 'Rythme en 5/8 difficile pour la santé')\n",
      "('2,0', '4 janv. 2024', 'Préparateur De Commande', [('Recommander', 'bad'), ('Approbation du PDG', 'bad'), ('Perspective commerciale', 'bad')], 'La machine à café est gratuite ;)', 'Un conseil : Le salaire surtout')\n",
      "('4,0', '26 nov. 2023', 'Software Engineer', [('Recommander', 'None'), ('Approbation du PDG', 'None'), ('Perspective commerciale', 'None')], 'Working at Amazon offers exposure to cutting-edge technology and a fast-paced environment, ideal for personal and professional growth. The company’s global reach provides unique opportunities for networking and career advancement. Competitive salaries and comprehensive benefits, including healthcare and stock options, make it an attractive employer.', 'Amazon’s demanding work culture can lead to burnout, with high expectations and constant pressure to perform. Work-life balance is often compromised, especially during peak seasons. The competitive atmosphere may not suit everyone, fostering a sometimes stressful environment. Rapid changes in company direction can also create job uncertainty.')\n",
      "Accenture\n",
      "https://www.glassdoor.fr/Avis/Accenture-Avis-E4138.htm\n",
      "('5,0', '7 nov. 2023', 'Consultant', [('Recommander', 'None'), ('Approbation du PDG', 'None'), ('Perspective commerciale', 'None')], \"Projets interessants et équipes d'experts dans plusieurs domaines\", 'Charge de travail qui est toujours haute')\n",
      "('4,0', '21 nov. 2023', 'Manager', [('Recommander', 'good'), ('Approbation du PDG', 'neutral'), ('Perspective commerciale', 'good')], \"- Salaire élevé\\n- Promotions avec augmentations salariales importantes (+10/15/20/30% selon les niveaux)\\n- CSE très intéressant (activités et voyages)\\n- Missions intéressantes \\n- De gros effort pour améliorer l'équilibre vie pro/ vie perso : 2 mois de congé paternité dont 1 offert par l'entreprise, télétravail 2 à 3j/semaine\", \"- Mobilité interne (changement de 'Practice') extrêmement difficile\\n- Lourdeur administrative (outils, process RH, formations annuelles obligatoires)\\n- Catalogue de formation correct mais peu de parcours (certifiés notamment) balisés pour orienter les salariés\\n- La personnalité/crédibilité du Career Counselor est un critère plus déterminant que la performance sur un projet au moment des discussions pour des promotions. Avoir un CC timide, nul en négociation et/ou mal considéré est rédhibitoire pour l'évolution de carrière du consultant qu'il encadre.\\n- Montants des primes et bonus plutôt faibles en dessous du grade de Manager\")\n",
      "('5,0', '9 janv. 2024', 'Senior Manager', [('Recommander', 'good'), ('Approbation du PDG', 'None'), ('Perspective commerciale', 'good')], \"Accenture est prionier de tous les programmes de transformation. c'est un cabinet qui est à l'écoute des aspirations de ces collaborators\", 'Selon les cas et les situation, les promotions peuvent prendre du temps en fonction du contexte économique')\n",
      "('1,0', '4 déc. 2023', 'Project Director', [('Recommander', 'bad'), ('Approbation du PDG', 'good'), ('Perspective commerciale', 'bad')], 'Beaux comptes et belles missions quand il y en a…', 'Impersonnel / manque de considération / faux intérêt envers vous / vous êtes noyés dans la masse / la fin des carplan (et tant mieux car si vous partez avant la fin du contrat vous devez payer de votre poche entre 2 et 15K€) une honte !!!')\n",
      "('4,0', '13 janv. 2024', 'Business Analyst', [('Recommander', 'None'), ('Approbation du PDG', 'None'), ('Perspective commerciale', 'None')], 'Plusieurs avantages sociaux, salaire équilibre', 'Rien de relevé pour le moment')\n",
      "('5,0', '12 janv. 2024', 'Manager', [('Recommander', 'None'), ('Approbation du PDG', 'None'), ('Perspective commerciale', 'None')], 'CE, PEE, Participation et intéressement', 'Politique interne, beaucoup de processus du fait de la taille de la structure')\n",
      "('5,0', '12 janv. 2024', 'Package Applications Specialist', [('Recommander', 'good'), ('Approbation du PDG', 'neutral'), ('Perspective commerciale', 'good')], 'Accenture est une super boite !', \"Inconvénients inhérents à une boite d'envergure internationale\")\n",
      "('5,0', '3 janv. 2024', 'Analyste', [('Recommander', 'None'), ('Approbation du PDG', 'None'), ('Perspective commerciale', 'None')], \"De nombreuses opportunités d'apprentissage, missions variées et intéressantes, management constructif et basé sur la confiance (tant dans la relation que la gestion du TT par exemple), nombreux avantages en nature\", 'Limitations liées au mode de fonctionnement par practice (courant dans de nombreux cabinets)')\n",
      "('4,0', '11 janv. 2024', 'Consultant', [('Recommander', 'good'), ('Approbation du PDG', 'None'), ('Perspective commerciale', 'None')], 'Expérience enrichissantes, diversité des missions', 'Contrat de travail strict, à part ça rien à signaler')\n",
      "('4,0', '10 janv. 2024', 'Alternante en Gestion de projet', [('Recommander', 'None'), ('Approbation du PDG', 'None'), ('Perspective commerciale', 'None')], '50% Transport PEE plan d’epargne Ambiance', 'Pas vraiement jen ai pas moi')\n",
      "Deloitte\n",
      "https://www.glassdoor.fr/Avis/Deloitte-Avis-E2763.htm\n",
      "('5,0', '9 janv. 2024', 'Senior Consultant', [('Recommander', 'good'), ('Approbation du PDG', 'good'), ('Perspective commerciale', 'good')], 'Encadrement du développement des collaborateurs Excellence dans le delivery Equipes très compétentes', 'Charge de travail parfois élevée et fluctuante')\n",
      "('1,0', '21 déc. 2023', 'Senior Consultant', [('Recommander', 'bad'), ('Approbation du PDG', 'None'), ('Perspective commerciale', 'bad')], 'Paie\\nCE\\nChèque resto\\nC’est à peu près tout', 'Deloitte Digital est un cabinet qui bat de l’aile, sans aucune transparence et sans vision concrète pour l’avenir, et qui ne possède pas les moyens de rivaliser avec les autres entreprises de taille similaire (et qui perd des appels d’offres contre des touts petits players moins arrogants et prétentieux, c’est dire si la réputation Deloitte est surfaite). \\n\\nLes coups bas et la malveillance sont tolérés, et à en juger par certaines promotions, récompensés.\\n\\nLogique de staffing tirée par les cheveux, où on place les ”collaborateurs” dans des rôles facturables, mais qui n’ont rien à voir avec leur profil ou leurs compétences, ce qui donne les billes au management pour cibler les personnes qui ne performent pas à la hauteur de leurs attentes…\\nEn bref, une stratégie où on place des défenseurs au poste d’attaquant, et on attend d’eux qu’ils marquent 25 buts par saison…\\n\\nPréférence claire pour les profils commerciaux, sans réelles compétences techniques, au détriment des profils tech, qui fuient le cabinet une fois qu’ils se rendent compte de l’ampleur du désastre, et de l’incapacité du cabinet à les exploiter au mieux et à capitaliser sur leurs compétences.\\n\\nLes évaluations de performance sont arbitraires, et favorisent les personnes “populaires” ou “visibles” au détriment des profils plus discrets, qui sont poussés vers la porte de sortie, même si les évaluations de mission sont positives. \\n\\nUn environnement de travail plutôt malsain dans l’ensemble donc.\\n\\nFuyez.')\n",
      "('4,0', '8 janv. 2024', 'Auditeur Financier - Junior', [('Recommander', 'None'), ('Approbation du PDG', 'None'), ('Perspective commerciale', 'None')], \"Réseau développé, culture d'excellence et mentoring\", 'Collègues distants, pivot fréquent, horaires')\n",
      "('3,0', '5 janv. 2024', 'Senior Auditor', [('Recommander', 'None'), ('Approbation du PDG', 'None'), ('Perspective commerciale', 'None')], 'Bon tremplin Responsabilisation Bonne perspective d’évolution', 'Grande entreprise donc intégration difficile au vu du nombre, turnover élevé, équilibre vie pro vie perso')\n",
      "('4,0', '3 janv. 2024', 'Auditeur Senior', [('Recommander', 'good'), ('Approbation du PDG', 'None'), ('Perspective commerciale', 'neutral')], 'Flexibilité, et connaissance de nombreux domaines. Suivi de procédures Possibilité de monter rapidement', 'Horaire de travail, pression, turnover du personnel')\n",
      "('5,0', '5 janv. 2024', 'Employé anonyme', [('Recommander', 'None'), ('Approbation du PDG', 'None'), ('Perspective commerciale', 'None')], 'Salaire, flexibilité, ambiance, équipe, management.', 'Horaires, bureaux, congés payés, stress.')\n",
      "('1,0', '27 déc. 2023', 'Consultant', [('Recommander', 'bad'), ('Approbation du PDG', 'neutral'), ('Perspective commerciale', 'neutral')], \"Une rapide montée en compétence (du à la pression d'avoir toujours plus à faire)\\nUn salaire au dessus de la moyenne\", 'Un équilibre vie pro / perso inexistant \\nOn vous poussera à travailler les soirs et les week-ends avec des deadlines impossibles\\nUne rémunération qui ne compense pas la santé que vous serez obligé de mettre dans le travail\\nUn harcèlement ambiant et une ambiance de travail très toxique')\n",
      "('5,0', '4 janv. 2024', 'SRI Analyst', [('Recommander', 'None'), ('Approbation du PDG', 'good'), ('Perspective commerciale', 'None')], 'Salaires cadres localisations et études', 'Pas grand chose de particulier')\n",
      "('4,0', '26 déc. 2023', 'Conseil et Audit IT', [('Recommander', 'good'), ('Approbation du PDG', 'neutral'), ('Perspective commerciale', 'neutral')], 'Découverte de nombreuses industries et de nombreux métiers différents', 'Volume de travail démentiel si on ne sait pas dire \"Non\"')\n",
      "('4,0', '3 janv. 2024', 'Consultant', [('Recommander', 'None'), ('Approbation du PDG', 'None'), ('Perspective commerciale', 'None')], 'Bonne ambiance bons avantages généraux', 'On y travaille vraiment beaucoup')\n",
      "Capgemini\n",
      "https://www.glassdoor.fr/Avis/Capgemini-Avis-E3803.htm\n",
      "('5,0', '2 janv. 2024', 'Ingénieur Développement Logiciel', [('Recommander', 'good'), ('Approbation du PDG', 'good'), ('Perspective commerciale', 'good')], 'Avantage d’une grande boîte Télétravail Clients prestigieux Encadrement', 'Évolution pas très rapide et salaire un peu en dessous du marché')\n",
      "('3,0', '8 janv. 2024', 'Software Engineer', [('Recommander', 'good'), ('Approbation du PDG', 'neutral'), ('Perspective commerciale', 'good')], \"Les avantages sociaux pour les employés sont nombreux, notamment la mutuelle santé, les processus clairement définis, les projets intéressants, les opportunités de réseautage et les programmes de formation interne. Les bureaux sont nombreux et confortables, et l'équipe de support sur place est de premier ordre. Le parking est relativement grand. Les actions entreprises par les bénévoles méritent d'être saluées, et ces personnes devraient être mieux reconnues et rémunérées. N'oublions pas l'effort monstrueux de certains seniors, peu importe leur rôle ou leur position, qui ont une vraie passion pour leur domaine technique et qui partagent leur savoir.\", 'Manque de transparence et de communication sur certains événements, notamment des réunions informelles avec les VP pour \"faire bonne figure\". La pression du groupe et des disparités salariales opaques. Manque de transparence sur les bonus de projet, qui crée une sensation d\\'obligation de participer aux \"afterworks\" et aux activités pendant la pause déjeuner. Un nombre insuffisant de vestiaires et des apéritifs qui ne sont pas à la hauteur des attentes générales. Sollicitation fréquente à des enquêtes pour obtenir des labels \"best place to work\", etc. Beaucoup de publicité et de marketing sur du blabla en interne, probablement utile pour ceux qui veulent s\\'investir dans cette entreprise.')\n",
      "('2,0', '14 janv. 2024', 'Consultant Confirmé', [('Recommander', 'good'), ('Approbation du PDG', 'neutral'), ('Perspective commerciale', 'good')], 'Il y a un CSE avec des promotions sur des voyages intéressants Vous pouvez trouver des missions chez des clients les plus divers', 'Le 13ème mois est de plus en plus rare pour les nouveaux arrivants. Les primes sont réservées aux plus lèches-bottes')\n",
      "('1,0', '12 janv. 2024', 'Chef De Projet', [('Recommander', 'None'), ('Approbation du PDG', 'None'), ('Perspective commerciale', 'None')], \"Pas grand choses a par si vous aimez l'hypocrisie.\", 'Salaire au plancher, Aucune évolution possible, les dinosaures sont bien assis aucune remise en question sur le fonctionnement, les bons éléments sont tous partis de cette société et ceux qui rentre reparte vite. Après 3 ans chez eux .... Ne reste que les lèches c.. .')\n",
      "('2,0', '14 janv. 2024', 'Employé anonyme', [('Recommander', 'bad'), ('Approbation du PDG', 'neutral'), ('Perspective commerciale', 'neutral')], \"Peu d'avantage pour une boîte du CAC 40\", \"Bureaucratie, vieille France dans beaucoup de services trop politique dans l'ensemble\")\n",
      "('3,0', '6 nov. 2023', 'Ingénieur Développement Logiciel', [('Recommander', 'None'), ('Approbation du PDG', 'None'), ('Perspective commerciale', 'None')], \"Opportunités de développement professionnel : Capgemini encourage la croissance et la formation continues de ses employés, offrant ainsi des possibilités d'évolution de carrière et de perfectionnement des compétences. Collaboration internationale : En tant qu'entreprise mondiale, Capgemini favorise la collaboration et l'échange d'expériences avec des collègues du monde entier, ce qui permet d'acquérir une perspective globale et diversifiée. Projets innovants : Capgemini est souvent impliqué dans des projets technologiques de pointe, offrant ainsi la possibilité de travailler sur des solutions innovantes et de rester à la pointe de l'industrie informatique.\", \"Pression et charge de travail : Comme dans de nombreuses entreprises de conseil en technologie, les employés de Capgemini peuvent parfois faire face à des charges de travail importantes et des délais serrés, ce qui peut entraîner une pression accrue. Mobilité géographique : Certaines positions au sein de l'entreprise peuvent nécessiter une mobilité géographique fréquente ou des missions à l'étranger, ce qui peut être contraignant pour certaines personnes en termes de vie personnelle et familiale. Concurrence intense : L'industrie des services informatiques est très compétitive, ce qui signifie que les employés de Capgemini doivent rester constamment à la pointe de leurs compétences pour rester concurrentiels, ce qui peut nécessiter un engagement continu dans le développement professionnel.\")\n",
      "('3,0', '11 janv. 2024', 'Consultant analyste infrastructure', [('Recommander', 'bad'), ('Approbation du PDG', 'good'), ('Perspective commerciale', 'bad')], '100% télétravail si on le souhaite', 'On ne voit jamais ses collègues, pas de dynamique de groupe, perspective d’évolution quasi nul, management catastrophique, vieux, puérils..')\n",
      "('4,0', '9 janv. 2024', 'Développeur web junior', [('Recommander', 'None'), ('Approbation du PDG', 'None'), ('Perspective commerciale', 'good')], '- Gros CE : des formations personnelles totalement financées - Changement d’environnements fréquents - Donne sa chance aux juniors', '- C’est une ESN donc on peut être sorti de mission très rapidement par les clients - Trop de négociations / temps de prise en compte pour les augmentations')\n",
      "('3,0', '8 janv. 2024', 'Consultant Applications L2', [('Recommander', 'bad'), ('Approbation du PDG', 'neutral'), ('Perspective commerciale', 'neutral')], '- Capgemini donne sa chance aux débutants - Le CE', '- difficile de monter vite en salaire - managers complètements déconnectés du métier d’ingénieur')\n",
      "('3,0', '10 janv. 2024', 'consultant qualité', [('Recommander', 'bad'), ('Approbation du PDG', 'neutral'), ('Perspective commerciale', 'neutral')], 'Missions intéressantes, confiance au jeune recrues Écoute du manager au besoin du consultant', 'Salaire très bas par rapport au marché')\n",
      "EY\n",
      "https://www.glassdoor.fr/Avis/EY-Avis-E2784.htm\n",
      "('5,0', '10 déc. 2023', 'Audit Senior', [('Recommander', 'None'), ('Approbation du PDG', 'None'), ('Perspective commerciale', 'None')], 'École après école, apprentissage sur terrain.', 'Marge d’amélioration sur l’équilibre vie pro-perso,')\n",
      "('5,0', '21 août 2023', 'Consultant Data Scientist Junior', [('Recommander', 'None'), ('Approbation du PDG', 'None'), ('Perspective commerciale', 'None')], \"- Très bon salaire pour 0-1 an d'expérience. - MacBook Air par défaut, MacBook Pro customisé dernière génération par demande. - Téléphone professionnel (Samsung A52, pas ouf). - Télétravail 100%. - Mutuelle AON. - CSE après 6 mois d'ancienneté, et GymLib après 1 mois. - Espace bureau magnifique. - Tickets restau ou cantine (pas les deux). - Ecran et chaise de bureau livrés à domicile pour TT.\", \"- En tant que consultant, la culture est différente, des fois il faut gonfler les propositions commerciales et les CVs pour attirer les clients. Tous les employés se comportent comme des experts dans un domaine super technique alors qu'on réalité ils ne savent rien faire. - Les missions ne sont pas challenging (mais cela dépend de votre background technique), simple à coder et à déployer. - Pour les gens de finance, comptabilité et audit, il faut charbonner jour et nuit, un conflit entre la vie pro et perso. - Les recrutements sont biaisés : si vous avez un très bon diplôme solide d'une école d'ingénieur ou université, vous ne serez pas recruter, par contre, si vous sortez d'une école de commerce connue et que vous savez comment parler voire mentir, emploi garanti. Malheureusement les RHs/Managers dans ce genre d'entreprise ne savent pas comment gérer les vrais profils techniques, les génies de la technologie.\")\n",
      "('4,0', '15 janv. 2024', 'Junior Auditor', [('Recommander', 'None'), ('Approbation du PDG', 'None'), ('Perspective commerciale', 'None')], 'Équipes très sympathique missions intéressantes', 'Beaucoup de travail avec un taux horaire qui ressemble au smic')\n",
      "('2,0', '4 janv. 2024', 'Junior Consultant FSO', [('Recommander', 'bad'), ('Approbation du PDG', 'neutral'), ('Perspective commerciale', 'neutral')], \"On dispose d'un bon salaire honnêtement, départ à 40k €\", \"Une grosse structure qui n'a strictement rien à faire de vous, c'est de la production pure qui parfois frôle la bêtise lorsque l'on a peu travail (on doit montrer que l'on bosse même lorsqu'il n'y a pas de boulot) et des personnes mettent 4 heures à faire un travail de 1 à 2 heures. Il y a de la procrastination hypocrite. Le cadre de travail n'est en rien enrichissant, mais les opportunités sont là ...\")\n",
      "('4,0', '8 janv. 2024', 'Consultant Sénior', [('Recommander', 'good'), ('Approbation du PDG', 'good'), ('Perspective commerciale', 'good')], \"Démarrer junior permet d'acquerir une solide formation méthodologique quel que soit le service, des hard et soft skills, et permet une progression rapide annuelle, d'un point de vu du grade, et du salaire en fonction des performances\", 'Systeme d\\'évaluation et de \"mise en concurrence\" au sein d\\'un meme grade, qui peut déplaire à certain. Auquel cas ne pas se tourner vers ce type de société, ça fait partie du jeu.')\n",
      "('3,0', '26 déc. 2023', 'Senior Consultant GRC', [('Recommander', 'good'), ('Approbation du PDG', 'None'), ('Perspective commerciale', 'neutral')], \"Cette expérience m'a permi de découvrir le monde des Big Fours et leur fonctionnement. J'ai pu effectuer différentes missions sur différentes thématiques et avoir accès à de nombreuses connaissances. De plus, cela m'a permi de travailler la partie relation commerciale et recrutement.\", \"J'ai été très peu accompagné durant ces deux années avec des formations en lignes, des feedbacks limités et une priorité mise continuellement sur le businness au détriment de ma vie personnelle par moments. De plus, les équipes sont très séparées et travaillent rarement ensemble.\")\n",
      "('2,0', '12 janv. 2024', 'Auditeur Financier', [('Recommander', 'bad'), ('Approbation du PDG', 'neutral'), ('Perspective commerciale', 'neutral')], 'évolution rapide + diversité de missions + formateur + responsabilisant', \"salaire d'embauche bas + équilibre vie pro/vie perso inexistant + peu d'avantage + mentalité BIG FOUR\")\n",
      "('4,0', '12 janv. 2024', 'Consultant Sénior', [('Recommander', 'good'), ('Approbation du PDG', 'neutral'), ('Perspective commerciale', 'neutral')], 'Typologie de mission trés diversifiés dans un contexte avec de fort enjeux', 'Rythme de travaille trés élévé')\n",
      "('4,0', '9 janv. 2024', 'Senior Manager', [('Recommander', 'good'), ('Approbation du PDG', 'neutral'), ('Perspective commerciale', 'good')], 'Car plan Note de frais CSE Bonus', 'Charge de travail Compétition Rôle des RH pas en soutien des consultants')\n",
      "('1,0', '21 déc. 2023', 'Consultant Junior', [('Recommander', 'bad'), ('Approbation du PDG', 'bad'), ('Perspective commerciale', 'bad')], 'Évolution salariale et statut\\nLocaux sympa', \"À fuire ! Je mets une étoile car je ne peux pas mettre moins : entreprise où les employés et les juniors sont non peu considérés, ou perçue comme des pions.\\nEY a mis fin à ma période d'essai.\\n En Bref parce que l'activité de conseil était très faible. Depuis que je suis arrivé j'ai eu que une mission de 2 semaines et sur cette base non objective et arbitraire ils ont rompu ma période d'essai. Ils ont fait pareil avec d'autre junior qui n'ont même pas eu de mission...\\n\\nC'est pour ça que 2 semaines avant que je débute mon contrat ils m'ont proposé de décaler mon arrivée à janvier comme la plupart des juniors recrutés sauf que je pouvais pas...\\n\\n Comme certains consultants junior ma \\nPériode d'essai a été rompu sur évaluation trucquée manigancée qui ne reflète pas ma performance. J'ai ecaladé mon désaccord au responsable et au management pour leur signaler du caractère abusif de cette évaluation mais Rien à faire. Je n'ai eu aucun retour de leur part.\\n\\nIls n'ont pas été capable de s'assurer que l'évaluation reflétait ma performance mais ils ont mis fin à ma période d'essai sur la base de cette évaluation arbitraire.\\n\\n à travers mes dernières investigations au sein EY, j'ai malheureusement constaté que je ne suis pas le seul junior dont la période d'essai a été rompue sur les mêmes procédés . ( Preuve à l'appui si besoin)\\n\\n\\nmalgré les demandes faites par Teams et par mail au responsable qui a formulé l'appréciation à l'origine de la rupture de ma période d'essai. Je n'ai reçu aucune explication détaillée, justifiée et cohérente m'expliquant pourquoi j'ai obtenu telle note sur tel critère/indicateur par rapport à l'appréciation qui a été formulée .\\n\\n\\nEn bref EY n'hésite pas à se séparer de son effectif à savoir les juniors recrutés : pour qui il est plus facile de mettre fin à la période d'essai car il n'ont pas besoin de le justifier.\\nMais le plus dégueulasse c'est qu'ils ineventent des motifs insensés non légitimes et injustifiés pour mettre fin aux contrats des salariés.\\n\\nJe tiens aussi à préciser que contrairement à eux, j'ai des preuves à l'appui de tout ce que j'ai avancé : capture d'écran, échange de mails, compte rendu.\\nJe vais contacter les médias les journaux pour que la France entière soit au courant de leur bonne pratique\")\n",
      "PwC\n",
      "https://www.glassdoor.fr/Avis/PwC-Avis-E8450.htm\n",
      "('5,0', '13 déc. 2023', 'Auditeur Financier', [('Recommander', 'good'), ('Approbation du PDG', 'good'), ('Perspective commerciale', 'good')], 'Formations Diversité de clients Evolution rapide', 'Salaire bas Mobilité géographique Gros horaires')\n",
      "('2,0', '5 janv. 2024', 'Consultant finance', [('Recommander', 'bad'), ('Approbation du PDG', 'neutral'), ('Perspective commerciale', 'neutral')], 'Les missions diverses et variées. Environnement de travail formateur. Beaucoup de choses à faire et apprendre si vous avez envie.', \"Les missions, il faut faire attention au sur-staffing. Il faut bien choisir ton manager car ce sera lui qui vont vous aider pour obtenir les missions qui vous intéressent. Sinon, vous aurez des missions que personne n'a envie de le faire mais que vous êtes en disponibilité, vous êtes obligés de l'accepter. Ambiance copinage, et très politique. Une entreprise ou tout est payant. Pas de cafe gratuit ni thé, pas de microondes pour les collaborateurs qui ne souhaitent pas manger à la cantine. Mobilité interne ou mobilité internationale difficile à obtenir malgré leur beau discours.\")\n",
      "('4,0', '9 janv. 2024', 'Audit Interne', [('Recommander', 'good'), ('Approbation du PDG', 'good'), ('Perspective commerciale', 'good')], 'Vie d’entreprise dynamique, locaux très chaleureux, cohésion et travail d’equipe, beaucoup d’autonomie en tant que junior, évolution claire et facilement atteignable, beaucoup de déplacements, possibilité de fast track', 'Peu de place à la créativité (rigueur absolue) et à l’élargissement du périmètre d’actions, équilibre vie pro-perso difficile à atteindre, peu de remise en question du management')\n",
      "('4,0', '14 janv. 2024', 'Senior Consultant', [('Recommander', 'None'), ('Approbation du PDG', 'None'), ('Perspective commerciale', 'None')], 'Notoriété du cabinet et réputation', 'Pression excessive de la part des associés.')\n",
      "('4,0', '10 janv. 2024', 'Accounting', [('Recommander', 'good'), ('Approbation du PDG', 'good'), ('Perspective commerciale', 'neutral')], \"Politique de télétravail ainsi qu'un travail de proximité avec les collègues. Bonne gestion des effectifs malgré le turnover.\", 'Longue journée lors des reportings')\n",
      "('5,0', '7 janv. 2024', 'fiscaliste', [('Recommander', 'good'), ('Approbation du PDG', 'None'), ('Perspective commerciale', 'neutral')], 'Equipe adaptable, accueillante et cadre de travail très agréable', 'Travail le soir, les week-ends, les jours fériés pour un salaire qui ne reflète pas cet investissement. Salaire assez voire très bas pour la charge de travail demandée.')\n",
      "('4,0', '6 déc. 2023', 'Consultant Sénior', [('Recommander', 'good'), ('Approbation du PDG', 'None'), ('Perspective commerciale', 'None')], \"-Une culture bienveillante, mais néanmoins exigeante, qui met tout de suite en responsabilité et permet de progresser rapidement -Un management inspirant et bienveillant dans les équipes dont j'ai été membre -De très gros projets et de belles opportunités de carrière -Une capacité à changer d'expertise et d'industrie, voire de métiers, tout en restant au sein du cabinet\", \"-Un équilibre vie pro/vie perso que j'estime ne pas être au rendez-vous. Mais je pense que ce défaut se retrouve dans tous les Big 4, même si je n'ai travaillé que pour PwC. => Lorsque vous êtes facturés plusieurs centaines d'euros la journée (voire + de 1000 euros à partir du grade de manager) vous êtes parfois corvéable à merci...\")\n",
      "('5,0', '2 janv. 2024', 'Consultant Manager', [('Recommander', 'good'), ('Approbation du PDG', 'None'), ('Perspective commerciale', 'good')], \"- Ouverture d'esprit - Salaire/ prime négociable - Des beaux projets\", '- Bien choisir ses équipes et ses projets (attention au sur-staffing) - Assez politique (des promotions illégitimes parfois) - Un niveau de reconnaissance hétérogène selon les collaborateurs')\n",
      "('3,0', '10 janv. 2024', 'Auditeur Financier - Junior', [('Recommander', 'None'), ('Approbation du PDG', 'None'), ('Perspective commerciale', 'None')], 'L’apprentissage est l’avantage principal selon moi', 'Il faut aimé travailler en cabinet')\n",
      "('4,0', '7 janv. 2024', 'Auditeur Financier - Junior', [('Recommander', 'None'), ('Approbation du PDG', 'None'), ('Perspective commerciale', 'None')], 'bonne ambiance compétence des équipes', 'Pas d’inconvénient majeur- beaucoup d’heures mais on sait pourquoi on vient là')\n",
      "KPMG\n",
      "https://www.glassdoor.fr/Avis/KPMG-Avis-E2867.htm\n",
      "('5,0', '9 janv. 2024', 'Consultant, ESG Advisory', [('Recommander', 'None'), ('Approbation du PDG', 'None'), ('Perspective commerciale', 'None')], 'Equipes sympathiques, réalistes tout en étant réellement engagées.', \"Prise en compte de l'équilibre vie pro / vie perso par les équipes dirigeantes, cependant il s'agit d'un métier qui demande un investissement conséquent pouvant chambouler cet équilibre en cas de mauvaise organisation de son propre temps. Cela est lié à la demande grandissante concernant les sujets ESG.\")\n",
      "('4,0', '10 janv. 2024', 'Auditeur Junior', [('Recommander', 'None'), ('Approbation du PDG', 'None'), ('Perspective commerciale', 'None')], 'Moyenne d’âge basse, bonne ambiance malgré la pression, cohésion de promo, suite de l’école avec une bonne formation, management bienveillant, possibilité d’évolution en interne et en externe', 'Salaire bas selon la grille école Pression durant la saison Devoir être adaptable')\n",
      "('4,0', '12 janv. 2024', 'Actuaire', [('Recommander', 'good'), ('Approbation du PDG', 'None'), ('Perspective commerciale', 'good')], 'J’ai beaucoup aimé l’ambiance de travail qui y régnait', 'Pas assez challengeant parfois mais bon')\n",
      "('5,0', '7 janv. 2024', 'Auditeur Financier - Junior', [('Recommander', 'good'), ('Approbation du PDG', 'None'), ('Perspective commerciale', 'good')], 'Salaires avantageux, tickets restaurants et autres... Les avantages financiers sont nombreux, mais ne sont pas les seules sources de motivations de par une ambiance de promo et une entraide quotidienne entre les collaborateurs.', \"Charges de travaille très importantes sur une certaine période de l'année\")\n",
      "('2,0', '19 déc. 2023', 'MANAGER AUDIT', [('Recommander', 'bad'), ('Approbation du PDG', 'bad'), ('Perspective commerciale', 'bad')], \"Métier intéressant, permettant de découvrir de nombreux secteurs d'activité, les différentes acteurs de la vie d'une entreprise. Comme il est très exigeant, il apprend à être rigoureux et efficace. C'est un bon début de carrière, pour ceux qui sont prêt à en payer le prix, mais je ne conseillerai pas aux jeunes diplômés d'y rester plus de 4-6 ans max. On travaille avec des équipes assez jeune, généralement de bon voire très bon niveau.\", 'Formation exigeante et généralement, \"à la dure\". Il faut être sacrément tenace (voire coriace) et organisé pour supporter les contraintes du métier dans les grands cabinets. Les audits sont réalisés très souvent en sous-effectif, du fait de difficultés récurrente des cabinets d\\'audit (depuis plusieurs années) à recruter du personnel qualifié qui accepte les contraintes inhérentes au métier d\\'auditeur. Le turn-over est donc important (et les burn-out pas si rares). Le logiciel utilisés pour \"monter\" le dossier d\\'audit est identique pour tous les pays dans lesquels le cabinet est implanté, donc souvent imparfaitement adapté au respect de la réglementation française, pourtant nécessaire. Le travail d\\'auditeur nécessite une importante implication et génère une forte pression, qui souvent ne permet pas de conserver un bon équilibre entre vie pro & vie perso. Le travail des membres de l\\'équipe est souvent mal reconnu et peu valorisé par les supérieurs hiérarchiques : ne vous attendez pas à être félicités par les associés pour lesquels vous avez travaillés, cela n\\'arrivera pas, ou très rarement, presque par hasard, et même si vous avez énormément donné du vôtre et que vous avez atteint tous vos objectifs. Reconnaitre l\\'investissement et le travail des équipes ne fait pas vraiment partie de la culture de ce métier, qui a gardé un côté \"marche ou crève\". Les promotions et bonus annuels ne sont d\\'ailleurs que partiellement lié à vos mérites, vos résultats et à votre engagement, ils dépendent plus de votre réseau interne et des dossiers clients sur lesquels vous avez travaillés. Les associés étant souvent assez déconnectés de la réalité du terrain, ils pourront d\\'ailleurs difficilement juger complètement de votre travail. Une certaine abnégation est donc utile pour survivre dans le milieu. Les grilles de salaires, autrefois intéressantes, ont été mal réévaluées depuis de nombreuses années. Maintenant, un auditeur gagne presqu\\'autant qu\\'un contrôleur de gestion, pour un quantité de travail et une pression bien plus importante.')\n",
      "('2,0', '10 janv. 2024', 'Auditeur Financier', [('Recommander', 'None'), ('Approbation du PDG', 'None'), ('Perspective commerciale', 'None')], 'Aucun avantages a part le salaire.', 'Charge de travail colossal , management défaillant et politique toxique,')\n",
      "('4,0', '8 janv. 2024', 'Consultant', [('Recommander', 'good'), ('Approbation du PDG', 'good'), ('Perspective commerciale', 'neutral')], 'Très formateur, bonne mission variée', 'déplacements, management aléatoire en fonction des missions')\n",
      "('4,0', '6 janv. 2024', 'Auditeur Financier - Junior', [('Recommander', 'good'), ('Approbation du PDG', 'None'), ('Perspective commerciale', 'neutral')], \"Opportunité permettant d'ouvrir de nombreuses portes\", 'Les horaires de travail sont assez difficiles')\n",
      "('5,0', '4 janv. 2024', 'Assistant Manager', [('Recommander', 'None'), ('Approbation du PDG', 'None'), ('Perspective commerciale', 'None')], 'Bonne entreprise avec plusieurs avantages', 'Le fait que les bureaux ne soient pas dans Paris')\n",
      "('2,0', '28 nov. 2023', 'Analyste Transaction Services', [('Recommander', 'bad'), ('Approbation du PDG', 'neutral'), ('Perspective commerciale', 'bad')], \"Diversité des missions dans de nombreux secteurs et à l'international Afterwork et offsight Equipe jeune\", \"Horaires à rallonge, pas d'équilibre vie pro vie perso. Avoir sa soirée signifie finir à 21h. S'attendre à bosser le week-end et les jours fériés. Il n'est pas rare de finir à 3h du mat' sur une mission, c'est même plutôt la norme en fin de mission. Management par la terreur où on cherche à exploiter le plus possible les personnes plutôt que de les faire grandir. Pendant mes 2 ans chez KPMG, 2 personnes étaient en arrêt pour burn out sur une équipe de 20 personnes ...\")\n",
      "IBM\n",
      "https://www.glassdoor.fr/Avis/IBM-Avis-E354.htm\n",
      "('5,0', '12 déc. 2023', 'Manager', [('Recommander', 'good'), ('Approbation du PDG', 'good'), ('Perspective commerciale', 'good')], 'Entreprise humaine et flexible avec de bonne ressources Salaire Flexibilité International', 'Structure importante Manque l\\'effet \"petite entreprise\" Climat dépendant de la practice')\n",
      "('3,0', '14 déc. 2023', 'Développeur', [('Recommander', 'bad'), ('Approbation du PDG', 'neutral'), ('Perspective commerciale', 'bad')], 'Ticket Resto \\nCSE \\nAmbiance générale \\nÉvénement d’entreprise', 'Les salaires sont bas comparés à d’autres ESN. Le management est souvent catastrophique on vous fait croire que vous pouvez compter sur eux mais quand vous êtes mal dans votre projet ou même que vos collègues ont des comportements plus que borderline avec vous on vous fait comprendre qu’il ne peuvent rien pour vous. L’immaturité chez certains est flagrante.')\n",
      "('1,0', '8 déc. 2023', 'Senior Consultant', [('Recommander', 'None'), ('Approbation du PDG', 'None'), ('Perspective commerciale', 'None')], 'Beau nom sur le CV\\nAvantages fu CSE : chèque vacances, sorties culture...', \"- augmentations médiocres, on augmente les personnes qui sont prêts à partir plutôt que des personnes qui le méritent\\n- Beaucoup trop d'Associate Partners sans portefeuille clients\\n- Peu de missions sur Paris, la majorité des missions sont en région\\n- Des commerciaux archi nuls\\n- Pas d' intéressement, ni de participation malgré les résultats positifs\\n- Management absent, les people manager ne servent à rien\\nBref, passez votre chemin, il y a de bien meilleurs cabinets de conseil en transformation digitale\")\n",
      "('2,0', '3 déc. 2023', 'Ingénieur Commercial', [('Recommander', 'None'), ('Approbation du PDG', 'None'), ('Perspective commerciale', 'None')], \"Mobilité possible dans différentes BU et bienveillance dans l'entreprise. Peu de licenciement Télétravail\", \"Pas d'avantages financiers (pas de stock options ni d'intéressement). Process interne exacerbant. Manque d'agilité car les décisions sont trop centralisés depuis les USA. Augmentation au lance pierre. Ne sait pas correctement récompenser ses talents.\")\n",
      "('3,0', '8 déc. 2023', 'ingénieur commercial senior', [('Recommander', 'bad'), ('Approbation du PDG', 'bad'), ('Perspective commerciale', 'bad')], 'Image de marque IBM qui ouvre encore les portes', \"N'a pas su prendre le virage du Cloud. Salaire à l'embauche très bas. Salaire de senior décalé par rapport au marché\")\n",
      "('5,0', '7 déc. 2023', 'Senior Manager', [('Recommander', 'good'), ('Approbation du PDG', 'neutral'), ('Perspective commerciale', 'good')], 'IBM consulting offre une bonne variété de sujets traités Salaires compétitif et évolution de carrière possible Management humain', 'Les process sont parfois lourds Augmentations annuelles pas à la hauteur du marché : Grow up or go out philosophy')\n",
      "('4,0', '14 déc. 2023', 'Lead Developer BackEnd', [('Recommander', 'None'), ('Approbation du PDG', 'None'), ('Perspective commerciale', 'None')], 'Opportunités et projets très interessants', 'Grande entreprise avec pas assez de management proche')\n",
      "('4,0', '12 déc. 2023', 'Project Manager', [('Recommander', 'good'), ('Approbation du PDG', 'good'), ('Perspective commerciale', 'bad')], \"groupe international avec missions à l'etranger\", 'IBM a beaucoup changé depuis le départ de Giny Romety.')\n",
      "('4,0', '5 déc. 2023', 'Web Designer', [('Recommander', 'good'), ('Approbation du PDG', 'None'), ('Perspective commerciale', 'None')], \"grosse entreprise, beaucoup de moyens et d'outils proposés\", \"Petite équipe dans laquelle la manageuse ne s'occupe pas de ses alternants\")\n",
      "('5,0', '7 déc. 2023', 'Senior Consultant', [('Recommander', 'good'), ('Approbation du PDG', 'good'), ('Perspective commerciale', 'good')], 'Équilibre vie perso-pro, opportunités, innovation', 'Expérience et culture selon équipe')\n",
      "BNP Paribas\n",
      "https://www.glassdoor.fr/Avis/BNP-Paribas-Avis-E10342.htm\n",
      "('5,0', '4 janv. 2024', 'Data Analyst Intern', [('Recommander', 'None'), ('Approbation du PDG', 'None'), ('Perspective commerciale', 'None')], 'Bon environnement d’apprentissage durant l’alternance', 'Pas de CE avant 6 mois')\n",
      "('4,0', '8 janv. 2024', \"Inspecteur À L'Inspection Générale\", [('Recommander', 'good'), ('Approbation du PDG', 'good'), ('Perspective commerciale', 'neutral')], '- Prise en compte récente de la toxicité de certaines pratiques managériales liées à la forte pression au travail. Un grand travail a été réalisé pour accentuer le bien être au travail. Cela contribue à une bonne ambiance au sein des équipes. - Forte exposition au management des entités auditées même en tant que junior. - Parcours exigeant et formateur. - Bonne ambiance au sein des équipes. - Possibilité de voyager fréquemment. - Bonne rémunération : augmentation de salaire annuelle, bonus à la performance, prime de déplacement, intéressement et participation. - CE sympa.', \"- Récente politique de réduction des coûts : cela induit des déplacements à l'étranger moins fréquents et de durées moins longues. - Certains managers gardent la mentalité assez archaïque et manquent de bienveillance envers leurs équipes. - Pas de possibilité de profiter des ponts du mois de mai.\")\n",
      "('3,0', '6 janv. 2024', \"Inspecteur À L'Inspection Générale\", [('Recommander', 'good'), ('Approbation du PDG', 'good'), ('Perspective commerciale', 'good')], 'Les missions sont l’occasion d’apprendre tout le fonctionnement de la banque (fonctions Front, Back, Support, Qualité, Juridique, Conformité). Possibilité de voyages et intéressement/participation meilleure que dans les banques françaises concurrentes.', 'Les horaires sont par moments colossaux et démesurés pour une rigidité parfois inutile.\\n\\nLes avantages en terme de qualité d’hôtels et de durées de déplacements à l’étranger sont apparemment bien moins avantageuses que par le passé alors que c’est une des raisons qui poussent les candidats à rejoindre l’Inspection.\\n\\nLe management est variable car les chefs de mission et seniors sont parfois expérimentés, pédagogues et compétents mais d’autres fois workaholic et tyranniques.')\n",
      "('1,0', '31 oct. 2023', 'Conseiller proximité', [('Recommander', 'bad'), ('Approbation du PDG', 'None'), ('Perspective commerciale', 'bad')], \"Si vous n'avez pas de personnalités et souhaitez joindre un environnement vous reflétant allez y.\", \"Le salaire. A mon arrivée chez bnp on m'a informé que l'estimation salariale se base en fonction de l'expérience et surtout du diplôme. Quelle fut ma surprise lorsque je me suis rendu compte que ma rémunération n'avait absolument rien à voir avec mes collaborateurs avec qui j'ai le même parcours de formation et la même. Le travail en agence: pression commerciale quotidienne, entre les objectifs et les offres qui changent tous les 4 matins on s'en sort plus. Les arrêts maladies à répétition. On nous demande de répondre au téléphone même pendant nos rdv avec les clients ce que je trouve totalement irrespectueux. Toujours cette course perpétuelle aux objectifs c'est fatiguant. Ne tombez surtout pas en arrêt maladie. Vous découvrirez les joies de la ressource humaine. Entre les problèmes avec les télétransmissions avec l'assurance maladie, et la compétence des interlocuteurs qui laisse à désirer. (oui c'est du vécu). L'informatique le logiciel est un peu archaïque et ancien c'est hallucinant d'avoir une institution comme celle ci avec un système ancien.\")\n",
      "('4,0', '13 janv. 2024', 'Conseiller renfort groupe', [('Recommander', 'good'), ('Approbation du PDG', 'good'), ('Perspective commerciale', 'neutral')], 'Les avantages comme les primes commerciales, d’intéressement et de participation, le CE, les tickets restaurants, le remboursement des frais de transport.', 'Le nombre de client, la charge de travail, la pression, le stress.')\n",
      "('3,0', '9 janv. 2024', \"responsable d'application\", [('Recommander', 'bad'), ('Approbation du PDG', 'bad'), ('Perspective commerciale', 'good')], 'L’entreprise a une politique de salaire globale équitable pour tous', 'Il est très compliqué voire impossible d’évoluer au sein de l’entreprise simplement grâce aux performances. La taille de l’entreprise fait que si vous ne faites ps de lobbying actif (voire continu pour beaucoup), vous n’évoluerez jamais')\n",
      "('2,0', '4 déc. 2023', 'Inspection Générale', [('Recommander', 'bad'), ('Approbation du PDG', 'neutral'), ('Perspective commerciale', 'neutral')], 'Prestige et renom de l’inspection Amabilité d’une partie de la staff', 'Les postes auxquels on peut prétendre à la fin de l’Inspection deviennent de plus en plus bateau et limite accessibles par des externes. Il n’y a donc plus tellement de plus-value à faire l’Inspection générale, si ce n’est la construction d’un réseau interne au Groupe au préalable. Pour les recrues de l’Inspection (filière Finance notamment) venant de l’extérieur du Groupe (cabinets d’audit externe), bien souvent, toutes les vérités ne sont pas dites au moment du recrutement telles que la charge de travail, l’absence d’équilibre vie privée-professionnelle, le fait que les missions à l’international et les primes dont la publicité est tant faite ne sont pas garanties pendant votre parcours…')\n",
      "('1,0', '15 oct. 2023', 'Chargé d affaires professionnel', [('Recommander', 'bad'), ('Approbation du PDG', 'bad'), ('Perspective commerciale', 'bad')], \"- Si vous savez jouer de flatterie et êtes à l'aise avec l'approche copinage vous pouvez faire une belle et longue carrière. - Un ce à Paris qui est appréciable. -\", '- Forte pression commerciale. On me demandais ce que j\\'avais vendu après chaque rdv. - Flicage via le logiciel qui a remplacé le téléphone comme dans les call center. On me demandais d\\'être toujours disponible et répondre aux appels même pendant mes rdv ou pendant que je travaillais sur un financelent. Mon manager fade la réécoutai mes conversations telephonique\" dans un but d\\'amélioration\" - Métier qui perd en valeur. Diplômé d\\'un Master conseillé pro, dans mon agence à Paris ils ont recruté des commerciaux de sephora, sfr pour les mettre conseiller pri. - très infantilisant. Cadre au forfait je devais tout de même arriver tous les jours 15 min avant l\\'ouverture pour un \"morning briefings\" et je avais justifier les moindre faits et gestes en télétravail. Je n\\'avais aucun équilibre vie pri et pro - perte des connaissances apprises. Des \"experts\" sont là pour nous prendre par la main sur tous les sujets, résultat les conseillers privé de mon agence ne savaient pas monter un prêt immobilier. Mon travail était de répondre au téléphone et mettre en relation le clients avec des experts.')\n",
      "('5,0', '10 janv. 2024', 'Product Manager', [('Recommander', 'None'), ('Approbation du PDG', 'None'), ('Perspective commerciale', 'None')], 'conditions de travail, management, respect des employés, solidité du groupe, possibilités infinies de mobilité en interne, etc.', \"grand groupe dont l'évolution peu être lente\")\n",
      "('5,0', '9 janv. 2024', 'Inspecteur auditeur SI', [('Recommander', 'good'), ('Approbation du PDG', 'neutral'), ('Perspective commerciale', 'good')], 'Salaire et bonus attractif, possiblité de voyager et avantages (congés, RTT, CET, intéressement et participation)', 'Charge de travail importante par moment')\n"
     ]
    }
   ],
   "source": [
    "driver.get(\"https://www.glassdoor.fr/Avis/index.htm\")\n",
    "\n",
    "employers = driver.find_elements(By.CSS_SELECTOR, '[data-test=\"employer-card-single\"]')\n",
    "employer_data = {}\n",
    "\n",
    "for employer in employers:\n",
    "    name = employer.find_element(By.CSS_SELECTOR, '[data-test=\"employer-short-name\"]').text\n",
    "    print(name)\n",
    "    ranking = employer.find_element(By.CSS_SELECTOR, '[data-test=\"rating\"]').text\n",
    "    print(ranking)\n",
    "    employer_data[name] = {\"Rank\": ranking, \"Reviews\": []}\n",
    "\n",
    "    \n",
    "for employer in employers:\n",
    "    name = employer.find_element(By.CSS_SELECTOR, '[data-test=\"employer-short-name\"]').text\n",
    "    print(name)\n",
    "    link = employer.find_element(By.CSS_SELECTOR, '[data-test=\"cell-Reviews-url\"]').get_attribute(\"href\")  \n",
    "    print(link)\n",
    "    driver2.get(link)\n",
    "    # Reviews\n",
    "    reviews = driver2.find_elements(By.CLASS_NAME, \"review-details__review-details-module__reviewDetails\")[:20]\n",
    "    \n",
    "    reviews_data = []\n",
    "    \n",
    "    for review in reviews:\n",
    "        hover = ActionChains(driver2).move_to_element(review).click()\n",
    "        hover.perform()\n",
    "        rating = review.find_element(By.CLASS_NAME, \"review-details__review-details-module__overallRating\").text\n",
    "        date = review.find_element(By.CLASS_NAME, \"review-details__review-details-module__reviewDate\").text\n",
    "        job_type = review.find_element(By.CLASS_NAME, \"review-details__review-details-module__employee\").text\n",
    "        details = review.find_elements(By.CLASS_NAME, \"mr-std.review-details__review-details-module__ratingDetail\")\n",
    "        details_list = []\n",
    "        for detail in details:\n",
    "            title = detail.find_element(By.CLASS_NAME, \"review-details__review-details-module__ratingTitle\").text\n",
    "            try:\n",
    "                detail.find_element(By.CLASS_NAME, \"review-details__review-details-module__negativeStyles\")\n",
    "                sentiment = \"bad\"\n",
    "            except:\n",
    "                try:\n",
    "                    detail.find_element(By.CLASS_NAME, \"review-details__review-details-module__positiveStyles\")\n",
    "                    sentiment = \"good\"\n",
    "                except:\n",
    "                    try:\n",
    "                        detail.find_element(By.CLASS_NAME, \"review-details__review-details-module__neutralStyles\")\n",
    "                        sentiment = \"neutral\"\n",
    "                    except:\n",
    "                        detail.find_element(By.CLASS_NAME, \"review-details__review-details-module__noDataStyles\")\n",
    "                        sentiment = \"None\"\n",
    "            details_list.append((title,sentiment))\n",
    "        \n",
    "        pros = review.find_element(By.CSS_SELECTOR, '[data-test=\"pros\"]').text\n",
    "        cons = review.find_element(By.CSS_SELECTOR, '[data-test=\"cons\"]').text \n",
    "        \n",
    "        print((rating,date,job_type,details_list,pros,cons))\n",
    "        \n",
    "        reviews_data.append((rating,date,job_type,details_list,pros,cons))\n",
    "    \n",
    "    employer_data[name][\"reviews\"] = reviews_data\n",
    "    \n",
    "    with open('dict_reviews.txt','w', encoding=\"utf-8\") as f:\n",
    "        f.write(employer_data.__str__())\n"
   ]
  },
  {
   "cell_type": "code",
   "execution_count": 19,
   "metadata": {},
   "outputs": [],
   "source": [
    "dict_reviews = eval(open('dict_reviews.txt', encoding=\"utf-8\").read())"
   ]
  },
  {
   "cell_type": "code",
   "execution_count": 20,
   "metadata": {},
   "outputs": [
    {
     "data": {
      "text/plain": [
       "dict_keys([\"McDonald's\", 'Amazon', 'Accenture', 'Deloitte', 'Capgemini', 'EY', 'PwC', 'KPMG', 'IBM', 'BNP Paribas'])"
      ]
     },
     "execution_count": 20,
     "metadata": {},
     "output_type": "execute_result"
    }
   ],
   "source": [
    "dict_reviews.keys()"
   ]
  },
  {
   "cell_type": "code",
   "execution_count": 22,
   "metadata": {},
   "outputs": [
    {
     "name": "stdout",
     "output_type": "stream",
     "text": [
      "McDonald's {'Rank': '3,5', 'Reviews': [], 'reviews': [('5,0', '14 janv. 2024', 'Assistant Manager (McDonalds)', [('Recommander', 'None'), ('Approbation du PDG', 'None'), ('Perspective commerciale', 'None')], 'Bien payer et très bien organisé', 'Les horaires parfois sont moins bien'), ('2,0', '11 déc. 2023', 'Employé anonyme', [('Recommander', 'None'), ('Approbation du PDG', 'None'), ('Perspective commerciale', 'None')], \"Flexibilité des horaires : McDonald's offre souvent des horaires flexibles, ce qui peut convenir aux étudiants, aux travailleurs à temps partiel ou à ceux qui ont des engagements personnels. Opportunités d'avancement : McDonald's encourage souvent la promotion interne, offrant aux employés la possibilité d'avancer dans leur carrière au sein de l'entreprise. Expérience professionnelle : Travailler au McDonald's peut constituer une première expérience professionnelle pour de nombreux jeunes, offrant des compétences de base en service à la clientèle, en gestion du temps et en travail d'équipe. Avantages sociaux : Certains employés peuvent bénéficier d'avantages sociaux tels que des repas gratuits ou à prix réduit, des assurances, et parfois des programmes de formation.\", \"Conditions de travail exigeantes : Le travail dans un restaurant rapide peut être exigeant physiquement et mentalement, avec des périodes de travail intensives, notamment pendant les heures de pointe. Salaire souvent minimum : Les salaires dans l'industrie de la restauration rapide sont parfois proches du salaire minimum, ce qui peut rendre difficile le maintien d'un niveau de vie décent. Pression du service à la clientèle : Les employés sont souvent confrontés à des clients exigeants et à des situations stressantes, ce qui peut être difficile à gérer. Rotation des tâches : Les employés peuvent être amenés à effectuer différentes tâches, ce qui peut être fatigant et répétitif.\"), ('3,0', '18 sept. 2023', \"Équipier Polyvalent Mac Donald's\", [('Recommander', 'good'), ('Approbation du PDG', 'neutral'), ('Perspective commerciale', 'neutral')], \"Acquisition de compétences diverses : Étant polyvalent, vous apprendrez plusieurs fonctions, que ce soit en cuisine, au comptoir, à la caisse ou à la gestion des commandes drive. Adaptabilité : Travailler dans différents rôles renforce l'adaptabilité, ce qui est une compétence précieuse dans de nombreux emplois et situations de la vie. Opportunités d'avancement : Avoir une compréhension de plusieurs postes peut augmenter vos chances de promotion, car vous avez une vision plus globale de l'opération du restaurant. Travail d'équipe : La polyvalence vous permet de travailler en étroite collaboration avec différents membres de l'équipe, renforçant ainsi vos compétences en matière de travail d'équipe. Sécurité de l'emploi : Un employé capable d'assumer plusieurs fonctions est souvent plus précieux pour l'entreprise et peut être moins susceptible d'être licencié. Variété : Changer régulièrement de poste peut rendre le travail plus intéressant et moins monotone.\", \"Pression : La nécessité de maîtriser plusieurs fonctions peut être stressante, surtout pendant les heures de pointe. Formation continue : Avec la mise à jour des procédures ou l'introduction de nouveaux produits, la formation peut être constante. Exigences physiques : Selon les postes que vous occupez, le travail peut être physiquement exigeant, par exemple en restant debout pendant de longues périodes ou en soulevant des objets lourds. Salaire : Malgré la polyvalence, le salaire de départ chez McDonald's peut ne pas refléter la diversité des compétences acquises. Horaire irrégulier : En tant qu'équipier polyvalent, vos heures de travail et vos fonctions peuvent varier considérablement d'une semaine à l'autre. Difficulté de spécialisation : Être polyvalent signifie que vous pourriez ne pas devenir un expert dans une fonction spécifique, car votre attention est divisée entre plusieurs tâches.\"), ('1,0', '6 nov. 2023', 'Employé anonyme', [('Recommander', 'None'), ('Approbation du PDG', 'None'), ('Perspective commerciale', 'None')], \"Expérience professionnelle : Travailler chez McDonald's peut vous offrir une expérience précieuse dans le domaine de la restauration rapide. Vous pouvez acquérir des compétences en service à la clientèle, en gestion du temps et en travail d'équipe. Flexibilité des horaires : McDonald's propose souvent des horaires flexibles, ce qui peut convenir à des étudiants ou à ceux qui ont besoin d'un emploi à temps partiel. Opportunités de croissance : McDonald's encourage la promotion interne. Si vous démarrez en tant que membre d'équipe, il y a la possibilité de progresser vers des postes de supervision ou de gestion. Avantages sociaux : En tant qu'employé, vous pouvez avoir accès à certains avantages sociaux tels que l'assurance maladie, les rabais sur la nourriture, et la formation en cours d'emploi.\", \"Pression et stress : Travailler dans la restauration rapide peut être stressant, surtout pendant les heures de pointe. Les clients peuvent être exigeants, et il peut y avoir une pression pour servir rapidement. Salaire : Les salaires dans l'industrie de la restauration rapide ne sont généralement pas élevés, en particulier pour les employés débutants. Cependant, ils peuvent varier en fonction de la localisation géographique. Travail physique : Le travail chez McDonald's peut être exigeant physiquement, avec beaucoup de temps debout, de mouvements répétitifs, et de tâches de nettoyage. Rotation des horaires : Vous pourriez avoir des horaires irréguliers, y compris les soirs, les week-ends et les jours fériés, ce qui peut affecter votre vie personnelle.\"), ('5,0', '7 janv. 2024', 'employé polyvalente de restauration', [('Recommander', 'good'), ('Approbation du PDG', 'neutral'), ('Perspective commerciale', 'neutral')], \"Assez facile d'obtenir un premier emploi si on est motivé bien sûr. L'équipe est géniale, toujours prêt à vous aider en toute circonstance.\", \"La clientèle peut être un peu rude parfois mais les managers sont là pour vous soutenir et gérer les conflits. Hormis ça, les horaires de close (minuit ou 1h du matin) mais c'est le concept de la marque, il faut s'y préparer.\"), ('2,0', '14 janv. 2024', 'Préparateur De Commande', [('Recommander', 'bad'), ('Approbation du PDG', 'bad'), ('Perspective commerciale', 'bad')], 'Emploi du temps variable, bonne ambiance', 'Sale, Clients irrespectueux et méchants'), ('5,0', '13 janv. 2024', 'Assistant Manager (McDonalds)', [('Recommander', 'good'), ('Approbation du PDG', 'None'), ('Perspective commerciale', 'good')], 'Des heures flexibles, deux jours de repos, RTT, repas gratuit', 'Le salaire est bas par rapport au travail'), ('3,0', '14 janv. 2024', 'Fast Food Worker', [('Recommander', 'good'), ('Approbation du PDG', 'None'), ('Perspective commerciale', 'neutral')], 'Repas pris en charge Mutuelle Tâches diversifiées Responsabilisation', 'Salaire Horaires Pénibilité Clientèle de plus en plus agressive'), ('4,0', '11 janv. 2024', 'Employé anonyme', [('Recommander', 'good'), ('Approbation du PDG', 'good'), ('Perspective commerciale', 'neutral')], \"Super franchement, esprit d'équipe tip top\", \"Il y en a pas vraiment à part l'odeur de la friture et du gras toute la journée\"), ('3,0', '10 janv. 2024', 'Employé anonyme', [('Recommander', 'None'), ('Approbation du PDG', 'None'), ('Perspective commerciale', 'None')], \"Horaires flexibles/ arrangeante/Esprit d'équipe/jours de repos consécutifs/ inclusifs\", 'Pause repas 40 min / pression lors des rush/ pas de formation sur la gestion des clients compliqué ou comment géré une situation conflictuelle')]}\n"
     ]
    },
    {
     "ename": "IndexError",
     "evalue": "string index out of range",
     "output_type": "error",
     "traceback": [
      "\u001b[1;31m---------------------------------------------------------------------------\u001b[0m",
      "\u001b[1;31mIndexError\u001b[0m                                Traceback (most recent call last)",
      "Cell \u001b[1;32mIn[22], line 8\u001b[0m\n\u001b[0;32m      6\u001b[0m     rank \u001b[38;5;241m=\u001b[39m value[\u001b[38;5;124m\"\u001b[39m\u001b[38;5;124mRank\u001b[39m\u001b[38;5;124m\"\u001b[39m]\n\u001b[0;32m      7\u001b[0m     \u001b[38;5;28;01mfor\u001b[39;00m review \u001b[38;5;129;01min\u001b[39;00m value[\u001b[38;5;124m\"\u001b[39m\u001b[38;5;124mreviews\u001b[39m\u001b[38;5;124m\"\u001b[39m]:\n\u001b[1;32m----> 8\u001b[0m         row \u001b[38;5;241m=\u001b[39m review[:\u001b[38;5;241m-\u001b[39m\u001b[38;5;241m1\u001b[39m] \u001b[38;5;241m+\u001b[39m [tag[\u001b[38;5;241m1\u001b[39m] \u001b[38;5;28;01mfor\u001b[39;00m tag \u001b[38;5;129;01min\u001b[39;00m review[\u001b[38;5;241m-\u001b[39m\u001b[38;5;241m1\u001b[39m]]\n\u001b[0;32m      9\u001b[0m         df\u001b[38;5;241m.\u001b[39mappend(row)\n\u001b[0;32m     11\u001b[0m df\u001b[38;5;241m=\u001b[39mpd\u001b[38;5;241m.\u001b[39mDataFrame(df,columns\u001b[38;5;241m=\u001b[39mnames)\n",
      "Cell \u001b[1;32mIn[22], line 8\u001b[0m, in \u001b[0;36m<listcomp>\u001b[1;34m(.0)\u001b[0m\n\u001b[0;32m      6\u001b[0m     rank \u001b[38;5;241m=\u001b[39m value[\u001b[38;5;124m\"\u001b[39m\u001b[38;5;124mRank\u001b[39m\u001b[38;5;124m\"\u001b[39m]\n\u001b[0;32m      7\u001b[0m     \u001b[38;5;28;01mfor\u001b[39;00m review \u001b[38;5;129;01min\u001b[39;00m value[\u001b[38;5;124m\"\u001b[39m\u001b[38;5;124mreviews\u001b[39m\u001b[38;5;124m\"\u001b[39m]:\n\u001b[1;32m----> 8\u001b[0m         row \u001b[38;5;241m=\u001b[39m review[:\u001b[38;5;241m-\u001b[39m\u001b[38;5;241m1\u001b[39m] \u001b[38;5;241m+\u001b[39m [\u001b[43mtag\u001b[49m\u001b[43m[\u001b[49m\u001b[38;5;241;43m1\u001b[39;49m\u001b[43m]\u001b[49m \u001b[38;5;28;01mfor\u001b[39;00m tag \u001b[38;5;129;01min\u001b[39;00m review[\u001b[38;5;241m-\u001b[39m\u001b[38;5;241m1\u001b[39m]]\n\u001b[0;32m      9\u001b[0m         df\u001b[38;5;241m.\u001b[39mappend(row)\n\u001b[0;32m     11\u001b[0m df\u001b[38;5;241m=\u001b[39mpd\u001b[38;5;241m.\u001b[39mDataFrame(df,columns\u001b[38;5;241m=\u001b[39mnames)\n",
      "\u001b[1;31mIndexError\u001b[0m: string index out of range"
     ]
    }
   ],
   "source": [
    "import pandas as pd\n",
    "df = []\n",
    "names = [\"Company\", \"Rank\", \"Review_score\", \"Date_review\", \"Job\", \"Recommandation\", \"Approb CEO\", \"Perspective\", \"Pros\", \"Cons\"]\n",
    "for key, value in dict_reviews.items():\n",
    "    print(key, value)\n",
    "    rank = value[\"Rank\"]\n",
    "    for review in value[\"reviews\"]:\n",
    "        print(review[-1])\n",
    "        row = review[:-1] + [tag[1] for tag in review[-1]]\n",
    "        df.append(row)\n",
    "\n",
    "df=pd.DataFrame(df,columns=names)\n",
    "df\n",
    "        "
   ]
  },
  {
   "cell_type": "code",
   "execution_count": null,
   "metadata": {},
   "outputs": [],
   "source": []
  }
 ],
 "metadata": {
  "kernelspec": {
   "display_name": "Python 3",
   "language": "python",
   "name": "python3"
  },
  "language_info": {
   "codemirror_mode": {
    "name": "ipython",
    "version": 3
   },
   "file_extension": ".py",
   "mimetype": "text/x-python",
   "name": "python",
   "nbconvert_exporter": "python",
   "pygments_lexer": "ipython3",
   "version": "3.10.11"
  }
 },
 "nbformat": 4,
 "nbformat_minor": 2
}
